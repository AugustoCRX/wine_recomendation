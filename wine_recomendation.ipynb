{
 "cells": [
  {
   "cell_type": "code",
   "execution_count": 1,
   "metadata": {},
   "outputs": [],
   "source": [
    "import pandas as pd\n",
    "import numpy as np\n",
    "\n",
    "import plotly.graph_objects as go\n",
    "from plotly.subplots import make_subplots\n",
    "from IPython.display import SVG, display \n",
    "import plotly.io as pio \n",
    "\n",
    "from sklearn.base import TransformerMixin \n",
    "\n",
    "import spacy\n",
    "\n",
    "spacy.prefer_gpu()\n",
    "\n",
    "nlp = spacy.load('en_core_web_md')"
   ]
  },
  {
   "cell_type": "code",
   "execution_count": 2,
   "metadata": {},
   "outputs": [],
   "source": [
    "df = pd.read_json('winemag-data-130k-v2.json')\n",
    "df.drop_duplicates(subset=['description'], inplace=True) # Remover duplicados da descrição, pode afetar o resultado do algoritmo\n",
    "df.dropna(subset=['taster_name'], inplace=True) "
   ]
  },
  {
   "cell_type": "code",
   "execution_count": 3,
   "metadata": {},
   "outputs": [],
   "source": [
    "vinhos_mais_caros = df[df['price'].notnull()].reset_index(drop=True).sort_values(by = ['price'],ascending=False).head(10)\n",
    "vinhos_mais_baratos = df[df['price'].notnull()].reset_index(drop=True).sort_values(by = ['price'],ascending=True).head(10)\n",
    "avaliadores_mais_comuns_com_twitter = df[df['taster_name'].notnull()].value_counts(['taster_name', 'taster_twitter_handle']).sort_values(ascending=False).rename({'Anne Krebiehl\\xa0MW': 'Anne Krebiehl MW'}, axis=0).head(10)\n",
    "avaliadores_mais_comuns_sem_twitter = df[df['taster_twitter_handle'].isnull()].value_counts(['taster_name']).sort_values(ascending=False).head(10) \n",
    "origem_dos_vinhos = df[df['country'].notnull()].value_counts(['country']).sort_values(ascending=False).head(10)\n",
    "adegas_mais_comuns = df[df['winery'].notnull()].value_counts(['winery']).sort_values(ascending=False).head(10)\n",
    "x = df['variety'].value_counts().reset_index(name=\"count\")\n",
    "tipos_vinhos_mais_comuns =  x.query(\"count > 300\").head(10)"
   ]
  },
  {
   "cell_type": "code",
   "execution_count": 4,
   "metadata": {},
   "outputs": [],
   "source": [
    "class bcolors:\n",
    "    OKMARGENTA = '\\033[35m'\n",
    "    OKBLUE = \"\\033[34m\"\n",
    "    OKCYAN = '\\033[96m'\n",
    "    OKGREEN = '\\033[92m'\n",
    "    OKYELLOW = '\\033[93m'\n",
    "    OKRED = '\\033[91m'\n",
    "    ENDC = '\\033[0m'\n",
    "    BOLD = '\\033[1m'\n",
    "    UNDERLINE = '\\033[4m'"
   ]
  },
  {
   "cell_type": "code",
   "execution_count": 5,
   "metadata": {},
   "outputs": [
    {
     "name": "stdout",
     "output_type": "stream",
     "text": [
      "Vinhos mais caros: \n",
      "\n",
      "O vinho \u001b[1m\u001b[92mChâteau les Ormes Sorbet 2013  Médoc\u001b[0m da adega \u001b[1mChâteau les Ormes Sorbet\u001b[0m foi avaliado por \u001b[1m\u001b[93mRoger Voss\u001b[0m, possui nota de \u001b[1m88\u001b[0m e preço de \u001b[1m3300.0\u001b[0m\n",
      "O vinho \u001b[1m\u001b[92mDomaine du Comte Liger-Belair 2010  La Romanée\u001b[0m da adega \u001b[1mDomaine du Comte Liger-Belair\u001b[0m foi avaliado por \u001b[1m\u001b[93mRoger Voss\u001b[0m, possui nota de \u001b[1m96\u001b[0m e preço de \u001b[1m2500.0\u001b[0m\n",
      "O vinho \u001b[1m\u001b[92mChâteau Pétrus 2014  Pomerol\u001b[0m da adega \u001b[1mChâteau Pétrus\u001b[0m foi avaliado por \u001b[1m\u001b[93mRoger Voss\u001b[0m, possui nota de \u001b[1m96\u001b[0m e preço de \u001b[1m2500.0\u001b[0m\n",
      "O vinho \u001b[1m\u001b[92mBlair 2013 Roger Rose Vineyard Chardonnay (Arroyo Seco)\u001b[0m da adega \u001b[1mBlair\u001b[0m foi avaliado por \u001b[1m\u001b[93mMatt Kettmann\u001b[0m, possui nota de \u001b[1m91\u001b[0m e preço de \u001b[1m2013.0\u001b[0m\n",
      "O vinho \u001b[1m\u001b[92mChâteau Pétrus 2011  Pomerol\u001b[0m da adega \u001b[1mChâteau Pétrus\u001b[0m foi avaliado por \u001b[1m\u001b[93mRoger Voss\u001b[0m, possui nota de \u001b[1m97\u001b[0m e preço de \u001b[1m2000.0\u001b[0m\n",
      "O vinho \u001b[1m\u001b[92mDomaine du Comte Liger-Belair 2005  La Romanée\u001b[0m da adega \u001b[1mDomaine du Comte Liger-Belair\u001b[0m foi avaliado por \u001b[1m\u001b[93mRoger Voss\u001b[0m, possui nota de \u001b[1m96\u001b[0m e preço de \u001b[1m2000.0\u001b[0m\n",
      "O vinho \u001b[1m\u001b[92mChâteau Margaux 2009  Margaux\u001b[0m da adega \u001b[1mChâteau Margaux\u001b[0m foi avaliado por \u001b[1m\u001b[93mRoger Voss\u001b[0m, possui nota de \u001b[1m98\u001b[0m e preço de \u001b[1m1900.0\u001b[0m\n",
      "O vinho \u001b[1m\u001b[92mChâteau Cheval Blanc 2010  Saint-Émilion\u001b[0m da adega \u001b[1mChâteau Cheval Blanc\u001b[0m foi avaliado por \u001b[1m\u001b[93mRoger Voss\u001b[0m, possui nota de \u001b[1m100\u001b[0m e preço de \u001b[1m1500.0\u001b[0m\n",
      "O vinho \u001b[1m\u001b[92mChâteau Lafite Rothschild 2010  Pauillac\u001b[0m da adega \u001b[1mChâteau Lafite Rothschild\u001b[0m foi avaliado por \u001b[1m\u001b[93mRoger Voss\u001b[0m, possui nota de \u001b[1m100\u001b[0m e preço de \u001b[1m1500.0\u001b[0m\n",
      "O vinho \u001b[1m\u001b[92mChâteau Mouton Rothschild 2009  Pauillac\u001b[0m da adega \u001b[1mChâteau Mouton Rothschild\u001b[0m foi avaliado por \u001b[1m\u001b[93mRoger Voss\u001b[0m, possui nota de \u001b[1m96\u001b[0m e preço de \u001b[1m1300.0\u001b[0m\n",
      "\n",
      "\n",
      "\tMédia de notas dos vinhos mais caros: \u001b[1m95.8\u001b[0m\n",
      "\tAvaliador mais comum: \u001b[1mRoger Voss\u001b[0m\n",
      "\tMédia de preços dos vinhos mais caros: \u001b[1m2051.3\u001b[0m\n"
     ]
    }
   ],
   "source": [
    "print(f'Vinhos mais caros: \\n')\n",
    "for i in range(0,len(vinhos_mais_caros)):\n",
    "    print(f'O vinho {bcolors.BOLD}{bcolors.OKGREEN}{(vinhos_mais_caros.title.iloc[i])}{bcolors.ENDC} da adega {bcolors.BOLD}{vinhos_mais_caros.winery.iloc[i]}{bcolors.ENDC} foi avaliado por {bcolors.BOLD}{bcolors.OKYELLOW}{vinhos_mais_caros.taster_name.iloc[i]}{bcolors.ENDC}, possui nota de {bcolors.BOLD}{vinhos_mais_caros.points.iloc[i]}{bcolors.ENDC} e preço de {bcolors.BOLD}{vinhos_mais_caros.price.iloc[i]}{bcolors.ENDC}')\n",
    "print('\\n')\n",
    "print(f'\\tMédia de notas dos vinhos mais caros: {bcolors.BOLD}{vinhos_mais_caros.points.mean()}{bcolors.ENDC}')\n",
    "print(f'\\tAvaliador mais comum: {bcolors.BOLD}{vinhos_mais_caros.taster_name.value_counts().index[0]}{bcolors.ENDC}')\n",
    "print(f'\\tMédia de preços dos vinhos mais caros: {bcolors.BOLD}{vinhos_mais_caros.price.mean()}{bcolors.ENDC}')"
   ]
  },
  {
   "cell_type": "code",
   "execution_count": 6,
   "metadata": {},
   "outputs": [
    {
     "data": {
      "text/plain": [
       "19"
      ]
     },
     "execution_count": 6,
     "metadata": {},
     "output_type": "execute_result"
    }
   ],
   "source": [
    "len(df['taster_name'].unique())"
   ]
  },
  {
   "cell_type": "code",
   "execution_count": 7,
   "metadata": {},
   "outputs": [
    {
     "name": "stdout",
     "output_type": "stream",
     "text": [
      "Vinhos mais baratos: \n",
      "\n",
      "O vinho \u001b[1m\u001b[92mDancing Coyote 2015 White (Clarksburg)\u001b[0m da adega \u001b[1mDancing Coyote\u001b[0m foi avaliado por \u001b[1m\u001b[93mJim Gordon\u001b[0m, possui nota de \u001b[1m85\u001b[0m e preço de \u001b[1m4.0\u001b[0m\n",
      "O vinho \u001b[1m\u001b[92mBroke Ass 2009 Red Malbec-Syrah (Mendoza)\u001b[0m da adega \u001b[1mBroke Ass\u001b[0m foi avaliado por \u001b[1m\u001b[93mMichael Schachner\u001b[0m, possui nota de \u001b[1m84\u001b[0m e preço de \u001b[1m4.0\u001b[0m\n",
      "O vinho \u001b[1m\u001b[92mCramele Recas 2011 UnWineD Pinot Grigio (Viile Timisului)\u001b[0m da adega \u001b[1mCramele Recas\u001b[0m foi avaliado por \u001b[1m\u001b[93mAnna Lee C. Iijima\u001b[0m, possui nota de \u001b[1m86\u001b[0m e preço de \u001b[1m4.0\u001b[0m\n",
      "O vinho \u001b[1m\u001b[92mPam's Cuties NV Unoaked Chardonnay (California)\u001b[0m da adega \u001b[1mPam's Cuties\u001b[0m foi avaliado por \u001b[1m\u001b[93mJim Gordon\u001b[0m, possui nota de \u001b[1m83\u001b[0m e preço de \u001b[1m4.0\u001b[0m\n",
      "O vinho \u001b[1m\u001b[92mFelix Solis 2013 Flirty Bird Syrah (Vino de la Tierra de Castilla)\u001b[0m da adega \u001b[1mFelix Solis\u001b[0m foi avaliado por \u001b[1m\u001b[93mMichael Schachner\u001b[0m, possui nota de \u001b[1m85\u001b[0m e preço de \u001b[1m4.0\u001b[0m\n",
      "O vinho \u001b[1m\u001b[92mFelix Solis 2012 Flirty Bird White (Vino de la Tierra de Castilla)\u001b[0m da adega \u001b[1mFelix Solis\u001b[0m foi avaliado por \u001b[1m\u001b[93mMichael Schachner\u001b[0m, possui nota de \u001b[1m82\u001b[0m e preço de \u001b[1m4.0\u001b[0m\n",
      "O vinho \u001b[1m\u001b[92mTerrenal 2010 Cabernet Sauvignon (Yecla)\u001b[0m da adega \u001b[1mTerrenal\u001b[0m foi avaliado por \u001b[1m\u001b[93mMichael Schachner\u001b[0m, possui nota de \u001b[1m84\u001b[0m e preço de \u001b[1m4.0\u001b[0m\n",
      "O vinho \u001b[1m\u001b[92mTerrenal 2010 Estate Bottled Tempranillo (Yecla)\u001b[0m da adega \u001b[1mTerrenal\u001b[0m foi avaliado por \u001b[1m\u001b[93mMichael Schachner\u001b[0m, possui nota de \u001b[1m84\u001b[0m e preço de \u001b[1m4.0\u001b[0m\n",
      "O vinho \u001b[1m\u001b[92mTerrenal 2012 Estate Bottled Tempranillo (Yecla)\u001b[0m da adega \u001b[1mTerrenal\u001b[0m foi avaliado por \u001b[1m\u001b[93mMichael Schachner\u001b[0m, possui nota de \u001b[1m83\u001b[0m e preço de \u001b[1m5.0\u001b[0m\n",
      "O vinho \u001b[1m\u001b[92mTerrenal 2013 Estate Bottled Malbec (Mendoza)\u001b[0m da adega \u001b[1mTerrenal\u001b[0m foi avaliado por \u001b[1m\u001b[93mMichael Schachner\u001b[0m, possui nota de \u001b[1m80\u001b[0m e preço de \u001b[1m5.0\u001b[0m\n",
      "\n",
      "\n",
      "\tMédia de notas dos vinhos mais baratos: \u001b[1m83.6\u001b[0m\n",
      "\tAvaliador mais comum: \u001b[1mMichael Schachner\u001b[0m\n",
      "\tMédia de preços dos vinhos mais baratos: \u001b[1m4.2\u001b[0m\n"
     ]
    }
   ],
   "source": [
    "print(f'Vinhos mais baratos: \\n')\n",
    "for i in range(0,len(vinhos_mais_baratos)):\n",
    "    print(f'O vinho {bcolors.BOLD}{bcolors.OKGREEN}{(vinhos_mais_baratos.title.iloc[i])}{bcolors.ENDC} da adega {bcolors.BOLD}{vinhos_mais_baratos.winery.iloc[i]}{bcolors.ENDC} foi avaliado por {bcolors.BOLD}{bcolors.OKYELLOW}{vinhos_mais_baratos.taster_name.iloc[i]}{bcolors.ENDC}, possui nota de {bcolors.BOLD}{vinhos_mais_baratos.points.iloc[i]}{bcolors.ENDC} e preço de {bcolors.BOLD}{vinhos_mais_baratos.price.iloc[i]}{bcolors.ENDC}')\n",
    "print('\\n')\n",
    "print(f'\\tMédia de notas dos vinhos mais baratos: {bcolors.BOLD}{vinhos_mais_baratos.points.mean()}{bcolors.ENDC}')\n",
    "print(f'\\tAvaliador mais comum: {bcolors.BOLD}{vinhos_mais_baratos.taster_name.value_counts().index[0]}{bcolors.ENDC}')\n",
    "print(f'\\tMédia de preços dos vinhos mais baratos: {bcolors.BOLD}{vinhos_mais_baratos.price.mean()}{bcolors.ENDC}')"
   ]
  },
  {
   "cell_type": "code",
   "execution_count": 8,
   "metadata": {},
   "outputs": [],
   "source": [
    "nomes_avaliadores_com_twitter = []\n",
    "for i in range(len(avaliadores_mais_comuns_com_twitter.index)):\n",
    "    nomes_avaliadores_com_twitter.append([avaliadores_mais_comuns_com_twitter.index[i][0]])\n",
    "nomes_avaliadores_com_twitter = pd.DataFrame(nomes_avaliadores_com_twitter, columns=['taster_name'])"
   ]
  },
  {
   "cell_type": "code",
   "execution_count": 9,
   "metadata": {},
   "outputs": [],
   "source": [
    "numero_avalicoes_com_twitter = []\n",
    "for i in range(len(avaliadores_mais_comuns_com_twitter.values)):\n",
    "    numero_avalicoes_com_twitter.append([avaliadores_mais_comuns_com_twitter.values[i]])\n",
    "numero_avalicoes_com_twitter = pd.DataFrame(numero_avalicoes_com_twitter, columns=['count'])"
   ]
  },
  {
   "cell_type": "code",
   "execution_count": 10,
   "metadata": {},
   "outputs": [],
   "source": [
    "avaliadores_mais_comuns = pd.concat([nomes_avaliadores_com_twitter, numero_avalicoes_com_twitter], axis=1)"
   ]
  },
  {
   "cell_type": "code",
   "execution_count": 11,
   "metadata": {},
   "outputs": [],
   "source": [
    "adegas_mais_comuns_df = pd.DataFrame(adegas_mais_comuns.reset_index(drop=False))\n",
    "adegas_mais_comuns_df.columns = ['winery', 'count']"
   ]
  },
  {
   "cell_type": "code",
   "execution_count": 12,
   "metadata": {},
   "outputs": [],
   "source": [
    "avaliadores_mais_comuns_sem_twitter = pd.DataFrame(avaliadores_mais_comuns_sem_twitter.reset_index(drop=False))\n",
    "avaliadores_mais_comuns_sem_twitter.columns = ['taster_name', 'count']"
   ]
  },
  {
   "cell_type": "code",
   "execution_count": 13,
   "metadata": {},
   "outputs": [
    {
     "data": {
      "image/svg+xml": "<svg xmlns=\"http://www.w3.org/2000/svg\" xmlns:xlink=\"http://www.w3.org/1999/xlink\" class=\"main-svg\" width=\"1200\" height=\"500\" style=\"\" viewBox=\"0 0 1200 500\"><rect x=\"0\" y=\"0\" width=\"1200\" height=\"500\" style=\"fill: rgb(245, 245, 220); fill-opacity: 1;\"/><defs id=\"defs-8ae0dd\"><g class=\"clips\"><clipPath id=\"clip8ae0ddxyplot\" class=\"plotclip\"><rect width=\"464.85\" height=\"317\"/></clipPath><clipPath id=\"clip8ae0ddx2y2plot\" class=\"plotclip\"><rect width=\"464.84999999999997\" height=\"317\"/></clipPath><clipPath class=\"axesclip\" id=\"clip8ae0ddx\"><rect x=\"80\" y=\"0\" width=\"464.85\" height=\"500\"/></clipPath><clipPath class=\"axesclip\" id=\"clip8ae0ddy\"><rect x=\"0\" y=\"100\" width=\"1200\" height=\"317\"/></clipPath><clipPath class=\"axesclip\" id=\"clip8ae0ddxy\"><rect x=\"80\" y=\"100\" width=\"464.85\" height=\"317\"/></clipPath><clipPath class=\"axesclip\" id=\"clip8ae0ddy2\"><rect x=\"0\" y=\"100\" width=\"1200\" height=\"317\"/></clipPath><clipPath class=\"axesclip\" id=\"clip8ae0ddxy2\"><rect x=\"80\" y=\"100\" width=\"464.85\" height=\"317\"/></clipPath><clipPath class=\"axesclip\" id=\"clip8ae0ddx2\"><rect x=\"648.1500000000001\" y=\"0\" width=\"464.84999999999997\" height=\"500\"/></clipPath><clipPath class=\"axesclip\" id=\"clip8ae0ddx2y\"><rect x=\"648.1500000000001\" y=\"100\" width=\"464.84999999999997\" height=\"317\"/></clipPath><clipPath class=\"axesclip\" id=\"clip8ae0ddx2y2\"><rect x=\"648.1500000000001\" y=\"100\" width=\"464.84999999999997\" height=\"317\"/></clipPath></g><g class=\"gradients\"/><g class=\"patterns\"/></defs><g class=\"bglayer\"/><g class=\"layer-below\"><g class=\"imagelayer\"/><g class=\"shapelayer\"/></g><g class=\"cartesianlayer\"><g class=\"subplot xy\"><g class=\"layer-subplot\"><g class=\"shapelayer\"/><g class=\"imagelayer\"/></g><g class=\"gridlayer\"><g class=\"x\"/><g class=\"y\"/></g><g class=\"zerolinelayer\"/><path class=\"xlines-below\"/><path class=\"ylines-below\"/><g class=\"overlines-below\"/><g class=\"xaxislayer-below\"/><g class=\"yaxislayer-below\"/><g class=\"overaxes-below\"/><g class=\"plot\" transform=\"translate(80,100)\" clip-path=\"url(#clip8ae0ddxyplot)\"><g class=\"barlayer mlayer\"><g class=\"trace bars\" style=\"opacity: 1;\"><g class=\"points\"><g class=\"point\"><path d=\"M4.65,317V15.85H41.84V317Z\" style=\"vector-effect: non-scaling-stroke; opacity: 1; stroke-width: 0.5px; fill: rgb(0, 0, 255); fill-opacity: 1; stroke: rgb(229, 236, 246); stroke-opacity: 1;\"/><text class=\"bartext bartext-outside\" text-anchor=\"middle\" data-notex=\"1\" x=\"0\" y=\"0\" style=\"font-family: 'Open Sans', verdana, arial, sans-serif; font-size: 12px; fill: rgb(42, 63, 95); fill-opacity: 1; white-space: pre;\" transform=\"translate(23.06402676399027,9.954428223844282)scale(0.965190592051906)\">23558</text></g><g class=\"point\"><path d=\"M51.13,317V137.46H88.32V317Z\" style=\"vector-effect: non-scaling-stroke; opacity: 1; stroke-width: 0.5px; fill: rgb(0, 0, 255); fill-opacity: 1; stroke: rgb(229, 236, 246); stroke-opacity: 1;\"/><text class=\"bartext bartext-outside\" text-anchor=\"middle\" data-notex=\"1\" x=\"0\" y=\"0\" style=\"font-family: 'Open Sans', verdana, arial, sans-serif; font-size: 12px; fill: rgb(42, 63, 95); fill-opacity: 1; white-space: pre;\" transform=\"translate(69.54402676399026,131.5644282238443)scale(0.9651905920519057)\">14045</text></g><g class=\"point\"><path d=\"M97.62,317V193.27H134.81V317Z\" style=\"vector-effect: non-scaling-stroke; opacity: 1; stroke-width: 0.5px; fill: rgb(0, 0, 255); fill-opacity: 1; stroke: rgb(229, 236, 246); stroke-opacity: 1;\"/><text class=\"bartext bartext-outside\" text-anchor=\"middle\" data-notex=\"1\" x=\"0\" y=\"0\" style=\"font-family: 'Open Sans', verdana, arial, sans-serif; font-size: 12px; fill: rgb(42, 63, 95); fill-opacity: 1; white-space: pre;\" transform=\"translate(116.0275,187.27)\">9679</text></g><g class=\"point\"><path d=\"M144.1,317V203.65H181.29V317Z\" style=\"vector-effect: non-scaling-stroke; opacity: 1; stroke-width: 0.5px; fill: rgb(0, 0, 255); fill-opacity: 1; stroke: rgb(229, 236, 246); stroke-opacity: 1;\"/><text class=\"bartext bartext-outside\" text-anchor=\"middle\" data-notex=\"1\" x=\"0\" y=\"0\" style=\"font-family: 'Open Sans', verdana, arial, sans-serif; font-size: 12px; fill: rgb(42, 63, 95); fill-opacity: 1; white-space: pre;\" transform=\"translate(162.5075,197.65)\">8867</text></g><g class=\"point\"><path d=\"M190.59,317V205.7H227.78V317Z\" style=\"vector-effect: non-scaling-stroke; opacity: 1; stroke-width: 0.5px; fill: rgb(0, 0, 255); fill-opacity: 1; stroke: rgb(229, 236, 246); stroke-opacity: 1;\"/><text class=\"bartext bartext-outside\" text-anchor=\"middle\" data-notex=\"1\" x=\"0\" y=\"0\" style=\"font-family: 'Open Sans', verdana, arial, sans-serif; font-size: 12px; fill: rgb(42, 63, 95); fill-opacity: 1; white-space: pre;\" transform=\"translate(208.9975,199.7)\">8707</text></g><g class=\"point\"><path d=\"M237.07,317V243.76H274.26V317Z\" style=\"vector-effect: non-scaling-stroke; opacity: 1; stroke-width: 0.5px; fill: rgb(192, 192, 192); fill-opacity: 1; stroke: rgb(229, 236, 246); stroke-opacity: 1;\"/><text class=\"bartext bartext-outside\" text-anchor=\"middle\" data-notex=\"1\" x=\"0\" y=\"0\" style=\"font-family: 'Open Sans', verdana, arial, sans-serif; font-size: 12px; fill: rgb(42, 63, 95); fill-opacity: 1; white-space: pre;\" transform=\"translate(255.4775,237.76)\">5729</text></g><g class=\"point\"><path d=\"M283.56,317V256.09H320.75V317Z\" style=\"vector-effect: non-scaling-stroke; opacity: 1; stroke-width: 0.5px; fill: rgb(192, 192, 192); fill-opacity: 1; stroke: rgb(229, 236, 246); stroke-opacity: 1;\"/><text class=\"bartext bartext-outside\" text-anchor=\"middle\" data-notex=\"1\" x=\"0\" y=\"0\" style=\"font-family: 'Open Sans', verdana, arial, sans-serif; font-size: 12px; fill: rgb(42, 63, 95); fill-opacity: 1; white-space: pre;\" transform=\"translate(301.9675,250.08999999999997)\">4765</text></g><g class=\"point\"><path d=\"M330.04,317V259.99H367.23V317Z\" style=\"vector-effect: non-scaling-stroke; opacity: 1; stroke-width: 0.5px; fill: rgb(192, 192, 192); fill-opacity: 1; stroke: rgb(229, 236, 246); stroke-opacity: 1;\"/><text class=\"bartext bartext-outside\" text-anchor=\"middle\" data-notex=\"1\" x=\"0\" y=\"0\" style=\"font-family: 'Open Sans', verdana, arial, sans-serif; font-size: 12px; fill: rgb(42, 63, 95); fill-opacity: 1; white-space: pre;\" transform=\"translate(348.4475,253.99)\">4460</text></g><g class=\"point\"><path d=\"M376.53,317V268.86H413.72V317Z\" style=\"vector-effect: non-scaling-stroke; opacity: 1; stroke-width: 0.5px; fill: rgb(192, 192, 192); fill-opacity: 1; stroke: rgb(229, 236, 246); stroke-opacity: 1;\"/><text class=\"bartext bartext-outside\" text-anchor=\"middle\" data-notex=\"1\" x=\"0\" y=\"0\" style=\"font-family: 'Open Sans', verdana, arial, sans-serif; font-size: 12px; fill: rgb(42, 63, 95); fill-opacity: 1; white-space: pre;\" transform=\"translate(394.9375,262.86)\">3766</text></g><g class=\"point\"><path d=\"M423.01,317V274.96H460.2V317Z\" style=\"vector-effect: non-scaling-stroke; opacity: 1; stroke-width: 0.5px; fill: rgb(192, 192, 192); fill-opacity: 1; stroke: rgb(229, 236, 246); stroke-opacity: 1;\"/><text class=\"bartext bartext-outside\" text-anchor=\"middle\" data-notex=\"1\" x=\"0\" y=\"0\" style=\"font-family: 'Open Sans', verdana, arial, sans-serif; font-size: 12px; fill: rgb(42, 63, 95); fill-opacity: 1; white-space: pre;\" transform=\"translate(441.4175,268.96)\">3289</text></g></g></g></g></g><g class=\"overplot\"/><path class=\"xlines-above crisp\" style=\"fill: none;\" d=\"M0,0\"/><path class=\"ylines-above crisp\" style=\"fill: none;\" d=\"M0,0\"/><g class=\"overlines-above\"/><g class=\"xaxislayer-above\"><g class=\"xtick\"><text text-anchor=\"start\" x=\"0\" y=\"430\" transform=\"translate(103.24,0) rotate(30,0,424)\" style=\"font-family: 'Open Sans', verdana, arial, sans-serif; font-size: 12px; fill: rgb(42, 63, 95); fill-opacity: 1; white-space: pre; opacity: 1;\">Roger Voss</text></g><g class=\"xtick\"><text text-anchor=\"start\" x=\"0\" y=\"430\" transform=\"translate(149.73000000000002,0) rotate(30,0,424)\" style=\"font-family: 'Open Sans', verdana, arial, sans-serif; font-size: 12px; fill: rgb(42, 63, 95); fill-opacity: 1; white-space: pre; opacity: 1;\">Michael Schachner</text></g><g class=\"xtick\"><text text-anchor=\"start\" x=\"0\" y=\"430\" transform=\"translate(196.20999999999998,0) rotate(30,0,424)\" style=\"font-family: 'Open Sans', verdana, arial, sans-serif; font-size: 12px; fill: rgb(42, 63, 95); fill-opacity: 1; white-space: pre; opacity: 1;\">Kerin O’Keefe</text></g><g class=\"xtick\"><text text-anchor=\"start\" x=\"0\" y=\"430\" transform=\"translate(242.7,0) rotate(30,0,424)\" style=\"font-family: 'Open Sans', verdana, arial, sans-serif; font-size: 12px; fill: rgb(42, 63, 95); fill-opacity: 1; white-space: pre; opacity: 1;\">Paul Gregutt</text></g><g class=\"xtick\"><text text-anchor=\"start\" x=\"0\" y=\"430\" transform=\"translate(289.18,0) rotate(30,0,424)\" style=\"font-family: 'Open Sans', verdana, arial, sans-serif; font-size: 12px; fill: rgb(42, 63, 95); fill-opacity: 1; white-space: pre; opacity: 1;\">Virginie Boone</text></g><g class=\"xtick\"><text text-anchor=\"start\" x=\"0\" y=\"430\" transform=\"translate(335.66999999999996,0) rotate(30,0,424)\" style=\"font-family: 'Open Sans', verdana, arial, sans-serif; font-size: 12px; fill: rgb(42, 63, 95); fill-opacity: 1; white-space: pre; opacity: 1;\">Matt Kettmann</text></g><g class=\"xtick\"><text text-anchor=\"start\" x=\"0\" y=\"430\" transform=\"translate(382.15,0) rotate(30,0,424)\" style=\"font-family: 'Open Sans', verdana, arial, sans-serif; font-size: 12px; fill: rgb(42, 63, 95); fill-opacity: 1; white-space: pre; opacity: 1;\">Joe Czerwinski</text></g><g class=\"xtick\"><text text-anchor=\"start\" x=\"0\" y=\"430\" transform=\"translate(428.64,0) rotate(30,0,424)\" style=\"font-family: 'Open Sans', verdana, arial, sans-serif; font-size: 12px; fill: rgb(42, 63, 95); fill-opacity: 1; white-space: pre; opacity: 1;\">Sean P. Sullivan</text></g><g class=\"xtick\"><text text-anchor=\"start\" x=\"0\" y=\"430\" transform=\"translate(475.12,0) rotate(30,0,424)\" style=\"font-family: 'Open Sans', verdana, arial, sans-serif; font-size: 12px; fill: rgb(42, 63, 95); fill-opacity: 1; white-space: pre; opacity: 1;\">Jim Gordon</text></g><g class=\"xtick\"><text text-anchor=\"start\" x=\"0\" y=\"430\" transform=\"translate(521.61,0) rotate(30,0,424)\" style=\"font-family: 'Open Sans', verdana, arial, sans-serif; font-size: 12px; fill: rgb(42, 63, 95); fill-opacity: 1; white-space: pre; opacity: 1;\">Anne Krebiehl MW</text></g></g><g class=\"yaxislayer-above\"/><g class=\"overaxes-above\"/></g><g class=\"subplot x2y2\"><g class=\"layer-subplot\"><g class=\"shapelayer\"/><g class=\"imagelayer\"/></g><g class=\"gridlayer\"><g class=\"x2\"/><g class=\"y2\"/></g><g class=\"zerolinelayer\"/><path class=\"xlines-below\"/><path class=\"ylines-below\"/><g class=\"overlines-below\"/><g class=\"xaxislayer-below\"/><g class=\"yaxislayer-below\"/><g class=\"overaxes-below\"/><g class=\"plot\" transform=\"translate(648.1500000000001,100)\" clip-path=\"url(#clip8ae0ddx2y2plot)\"><g class=\"barlayer mlayer\"><g class=\"trace bars\" style=\"opacity: 1;\"><g class=\"points\"><g class=\"point\"><path d=\"M15.49,317V15.85H139.45V317Z\" style=\"vector-effect: non-scaling-stroke; opacity: 1; stroke-width: 0.5px; fill: rgb(0, 0, 255); fill-opacity: 1; stroke: rgb(229, 236, 246); stroke-opacity: 1;\"/><text class=\"bartext bartext-outside\" text-anchor=\"middle\" data-notex=\"1\" x=\"0\" y=\"0\" style=\"font-family: 'Open Sans', verdana, arial, sans-serif; font-size: 12px; fill: rgb(42, 63, 95); fill-opacity: 1; white-space: pre;\" transform=\"translate(77.2825,9.85)\">4017</text></g><g class=\"point\"><path d=\"M170.45,317V288.29H294.4V317Z\" style=\"vector-effect: non-scaling-stroke; opacity: 1; stroke-width: 0.5px; fill: rgb(192, 192, 192); fill-opacity: 1; stroke: rgb(229, 236, 246); stroke-opacity: 1;\"/><text class=\"bartext bartext-outside\" text-anchor=\"middle\" data-notex=\"1\" x=\"0\" y=\"0\" style=\"font-family: 'Open Sans', verdana, arial, sans-serif; font-size: 12px; fill: rgb(42, 63, 95); fill-opacity: 1; white-space: pre;\" transform=\"translate(232.42499999999998,282.29)\">383</text></g><g class=\"point\"><path d=\"M325.4,317V307.33H449.36V317Z\" style=\"vector-effect: non-scaling-stroke; opacity: 1; stroke-width: 0.5px; fill: rgb(192, 192, 192); fill-opacity: 1; stroke: rgb(229, 236, 246); stroke-opacity: 1;\"/><text class=\"bartext bartext-outside\" text-anchor=\"middle\" data-notex=\"1\" x=\"0\" y=\"0\" style=\"font-family: 'Open Sans', verdana, arial, sans-serif; font-size: 12px; fill: rgb(42, 63, 95); fill-opacity: 1; white-space: pre;\" transform=\"translate(387.1925,301.33)\">129</text></g></g></g></g></g><g class=\"overplot\"/><path class=\"xlines-above crisp\" style=\"fill: none;\" d=\"M0,0\"/><path class=\"ylines-above crisp\" style=\"fill: none;\" d=\"M0,0\"/><g class=\"overlines-above\"/><g class=\"xaxislayer-above\"><g class=\"x2tick\"><text text-anchor=\"middle\" x=\"0\" y=\"430\" transform=\"translate(725.6200000000001,0)\" style=\"font-family: 'Open Sans', verdana, arial, sans-serif; font-size: 12px; fill: rgb(42, 63, 95); fill-opacity: 1; white-space: pre; opacity: 1;\">Anna Lee C. Iijima</text></g><g class=\"x2tick\"><text text-anchor=\"middle\" x=\"0\" y=\"430\" transform=\"translate(880.5800000000002,0)\" style=\"font-family: 'Open Sans', verdana, arial, sans-serif; font-size: 12px; fill: rgb(42, 63, 95); fill-opacity: 1; white-space: pre; opacity: 1;\">Alexander Peartree</text></g><g class=\"x2tick\"><text text-anchor=\"middle\" x=\"0\" y=\"430\" transform=\"translate(1035.5300000000002,0)\" style=\"font-family: 'Open Sans', verdana, arial, sans-serif; font-size: 12px; fill: rgb(42, 63, 95); fill-opacity: 1; white-space: pre; opacity: 1;\">Carrie Dykes</text></g></g><g class=\"yaxislayer-above\"/><g class=\"overaxes-above\"/></g></g><g class=\"polarlayer\"/><g class=\"smithlayer\"/><g class=\"ternarylayer\"/><g class=\"geolayer\"/><g class=\"funnelarealayer\"/><g class=\"pielayer\"/><g class=\"iciclelayer\"/><g class=\"treemaplayer\"/><g class=\"sunburstlayer\"/><g class=\"glimages\"/><defs id=\"topdefs-8ae0dd\"><g class=\"clips\"/></defs><g class=\"layer-above\"><g class=\"imagelayer\"/><g class=\"shapelayer\"><path data-index=\"0\" fill-rule=\"evenodd\" d=\"M80,417H1164.65V96.83H80Z\" style=\"opacity: 1; stroke: rgb(255, 255, 255); stroke-opacity: 1; fill: rgb(0, 0, 0); fill-opacity: 0; stroke-width: 1px;\"/><path data-index=\"1\" fill-rule=\"evenodd\" d=\"M596.5,417L596.5,100\" style=\"opacity: 1; stroke: rgb(255, 255, 255); stroke-opacity: 1; fill: rgb(0, 0, 0); fill-opacity: 0; stroke-width: 1px;\"/></g></g><g class=\"infolayer\"><g class=\"g-gtitle\"><text class=\"gtitle\" x=\"60\" y=\"50\" text-anchor=\"start\" dy=\"0em\" style=\"font-family: Arial, monospace; font-size: 24px; fill: rgb(0, 0, 0); opacity: 1; font-weight: normal; white-space: pre;\"><tspan style=\"font-weight:bold\">Avaliadores mais comuns</tspan></text></g><g class=\"g-xtitle\"/><g class=\"g-x2title\"/><g class=\"annotation\" data-index=\"0\" style=\"opacity: 1;\"><g class=\"annotation-text-g\" transform=\"rotate(0,312.425,79.79999999999998)\"><g class=\"cursor-pointer\" transform=\"translate(202,68)\"><rect class=\"bg\" x=\"0.5\" y=\"0.5\" width=\"219\" height=\"22\" style=\"stroke-width: 1px; stroke: rgb(0, 0, 0); stroke-opacity: 0; fill: rgb(0, 0, 0); fill-opacity: 0;\"/><text class=\"annotation-text\" text-anchor=\"middle\" x=\"110.625\" y=\"18\" style=\"font-family: 'Open Sans', verdana, arial, sans-serif; font-size: 16px; fill: rgb(42, 63, 95); fill-opacity: 1; white-space: pre;\"><tspan style=\"font-weight:bold\">Avaliadores com twitter</tspan></text></g></g></g><g class=\"annotation\" data-index=\"1\" style=\"opacity: 1;\"><g class=\"annotation-text-g\" transform=\"rotate(0,880.575,79.79999999999998)\"><g class=\"cursor-pointer\" transform=\"translate(771,68)\"><rect class=\"bg\" x=\"0.5\" y=\"0.5\" width=\"219\" height=\"22\" style=\"stroke-width: 1px; stroke: rgb(0, 0, 0); stroke-opacity: 0; fill: rgb(0, 0, 0); fill-opacity: 0;\"/><text class=\"annotation-text\" text-anchor=\"middle\" x=\"110.484375\" y=\"18\" style=\"font-family: 'Open Sans', verdana, arial, sans-serif; font-size: 16px; fill: rgb(42, 63, 95); fill-opacity: 1; white-space: pre;\"><tspan style=\"font-weight:bold\">Avaliadores sem twitter</tspan></text></g></g></g></g></svg>",
      "text/plain": [
       "<IPython.core.display.SVG object>"
      ]
     },
     "metadata": {},
     "output_type": "display_data"
    }
   ],
   "source": [
    "fig = make_subplots(rows=1, cols=2, subplot_titles=('<b>Avaliadores com twitter</b>', '<b>Avaliadores sem twitter</b>'))\n",
    "\n",
    "colors              = ['#C0C0C0'] * 10\n",
    "colors[0:5]        = ['blue'] * 5\n",
    "color_no_twitter    = ['#C0C0C0'] * 3\n",
    "color_no_twitter[0:1] = ['blue'] * 1\n",
    "\n",
    "fig.add_trace(go.Bar(\n",
    "                    y= avaliadores_mais_comuns.sort_values(by = ['count'],ascending=False)['count'] , x= avaliadores_mais_comuns.sort_values(by = ['count'],ascending=False)['taster_name'] , \n",
    "                    marker_color=colors,\n",
    "                    text = avaliadores_mais_comuns.sort_values(by = ['count'],ascending=False)['count'],\n",
    " \n",
    "    ),\n",
    "                    row = 1, col = 1)\n",
    "\n",
    "fig.add_trace(go.Bar(\n",
    "                    y= avaliadores_mais_comuns_sem_twitter.sort_values(by = ['count'],ascending=False)['count'], x= avaliadores_mais_comuns_sem_twitter.sort_values(by = ['count'],ascending=False)['taster_name'],\n",
    "                    marker_color = color_no_twitter, \n",
    "                    text = avaliadores_mais_comuns_sem_twitter.sort_values(by = ['count'],ascending=False)['count'],\n",
    " \n",
    "    ),\n",
    "                    row = 1, col = 2)\n",
    "\n",
    "fig.add_trace(go.Bar(\n",
    "                \n",
    "))\n",
    "\n",
    "fig.update_layout(\n",
    "                    title='<b>Avaliadores mais comuns</b>', showlegend=False, \n",
    "                    yaxis_title=None, xaxis_title=None,\n",
    "                    paper_bgcolor = 'rgb(245,245,220)', # cor de fundo do papel do gráfico\n",
    "                    plot_bgcolor = 'rgb(245,245,220)', # cor de fundo do gráfico\n",
    "                    title_font_family=\"Arial, monospace\",\n",
    "                    title_font_color=\"black\",\n",
    "                    title_font_size=24,\n",
    "                    shapes=[\n",
    "                            go.layout.Shape(\n",
    "                            # define o tipo de divisão\n",
    "                            type='rect', # tipo de divisão via retângulo (rectangle)\n",
    "                            xref='paper', yref='paper', #referência do retângulo na tela\n",
    "                            x0=0, y0=0, #posição inicial do retângulo\n",
    "                            x1=1.05,y1=1.01, #posição final do retângulo\n",
    "                            line={'width': 1, 'color': 'white'}), # define a cor e a largura da borda do retângulo\n",
    "                            # define a primeira divisão do gráfico\n",
    "                            go.layout.Shape(\n",
    "                            type='line', # tipo de divisão via linha (line)\n",
    "                            xref='paper', yref='paper',\n",
    "                            x0=0.5, y0=0,\n",
    "                            x1=0.5, y1=1,\n",
    "                            line={'width': 1, 'color': 'white'})])\n",
    "fig.update_yaxes(visible = False)\n",
    "fig.update_layout(width = 1200, height = 500)\n",
    "fig.update_traces(textposition='outside')\n",
    "for annotation in fig['layout']['annotations']: \n",
    "        annotation['yanchor']='top'\n",
    "        annotation['y']=1.1\n",
    "        annotation['yref']='paper'\n",
    "\n",
    "img_bytes_avaliadores = pio.to_image(fig, format=\"svg\")\n",
    "display(SVG(img_bytes_avaliadores))"
   ]
  },
  {
   "cell_type": "code",
   "execution_count": 14,
   "metadata": {},
   "outputs": [
    {
     "data": {
      "image/svg+xml": "<svg xmlns=\"http://www.w3.org/2000/svg\" xmlns:xlink=\"http://www.w3.org/1999/xlink\" class=\"main-svg\" width=\"800\" height=\"500\" style=\"\" viewBox=\"0 0 800 500\"><rect x=\"0\" y=\"0\" width=\"800\" height=\"500\" style=\"fill: rgb(245, 245, 220); fill-opacity: 1;\"/><defs id=\"defs-9bf5fe\"><g class=\"clips\"><clipPath id=\"clip9bf5fexyplot\" class=\"plotclip\"><rect width=\"576\" height=\"320\"/></clipPath><clipPath class=\"axesclip\" id=\"clip9bf5fex\"><rect x=\"144\" y=\"0\" width=\"576\" height=\"500\"/></clipPath><clipPath class=\"axesclip\" id=\"clip9bf5fey\"><rect x=\"0\" y=\"100\" width=\"800\" height=\"320\"/></clipPath><clipPath class=\"axesclip\" id=\"clip9bf5fexy\"><rect x=\"144\" y=\"100\" width=\"576\" height=\"320\"/></clipPath></g><g class=\"gradients\"/><g class=\"patterns\"/></defs><g class=\"bglayer\"/><g class=\"layer-below\"><g class=\"imagelayer\"/><g class=\"shapelayer\"/></g><g class=\"cartesianlayer\"><g class=\"subplot xy\"><g class=\"layer-subplot\"><g class=\"shapelayer\"/><g class=\"imagelayer\"/></g><g class=\"gridlayer\"><g class=\"x\"/><g class=\"y\"/></g><g class=\"zerolinelayer\"/><path class=\"xlines-below\"/><path class=\"ylines-below\"/><g class=\"overlines-below\"/><g class=\"xaxislayer-below\"/><g class=\"yaxislayer-below\"/><g class=\"overaxes-below\"/><g class=\"plot\" transform=\"translate(144,100)\" clip-path=\"url(#clip9bf5fexyplot)\"><g class=\"barlayer mlayer\"><g class=\"trace bars\" style=\"opacity: 1;\"><g class=\"points\"><g class=\"point\"><path d=\"M0,316.8V291.2H272.3V316.8Z\" style=\"vector-effect: non-scaling-stroke; opacity: 1; stroke-width: 0.5px; fill: rgb(192, 192, 192); fill-opacity: 1; stroke: rgb(229, 236, 246); stroke-opacity: 1;\"/><text class=\"bartext bartext-inside\" text-anchor=\"middle\" data-notex=\"1\" x=\"0\" y=\"0\" style=\"font-family: 'Open Sans', verdana, arial, sans-serif; font-size: 12px; fill: rgb(68, 68, 68); fill-opacity: 1; white-space: pre;\" transform=\"translate(257.471875,308.5)\">105</text></g><g class=\"point\"><path d=\"M0,284.8V259.2H280.08V284.8Z\" style=\"vector-effect: non-scaling-stroke; opacity: 1; stroke-width: 0.5px; fill: rgb(192, 192, 192); fill-opacity: 1; stroke: rgb(229, 236, 246); stroke-opacity: 1;\"/><text class=\"bartext bartext-inside\" text-anchor=\"middle\" data-notex=\"1\" x=\"0\" y=\"0\" style=\"font-family: 'Open Sans', verdana, arial, sans-serif; font-size: 12px; fill: rgb(68, 68, 68); fill-opacity: 1; white-space: pre;\" transform=\"translate(265.251875,276.5)\">108</text></g><g class=\"point\"><path d=\"M0,252.8V227.2H282.68V252.8Z\" style=\"vector-effect: non-scaling-stroke; opacity: 1; stroke-width: 0.5px; fill: rgb(192, 192, 192); fill-opacity: 1; stroke: rgb(229, 236, 246); stroke-opacity: 1;\"/><text class=\"bartext bartext-inside\" text-anchor=\"middle\" data-notex=\"1\" x=\"0\" y=\"0\" style=\"font-family: 'Open Sans', verdana, arial, sans-serif; font-size: 12px; fill: rgb(68, 68, 68); fill-opacity: 1; white-space: pre;\" transform=\"translate(267.851875,244.5)\">109</text></g><g class=\"point\"><path d=\"M0,220.8V195.2H378.63V220.8Z\" style=\"vector-effect: non-scaling-stroke; opacity: 1; stroke-width: 0.5px; fill: rgb(192, 192, 192); fill-opacity: 1; stroke: rgb(229, 236, 246); stroke-opacity: 1;\"/><text class=\"bartext bartext-inside\" text-anchor=\"middle\" data-notex=\"1\" x=\"0\" y=\"0\" style=\"font-family: 'Open Sans', verdana, arial, sans-serif; font-size: 12px; fill: rgb(68, 68, 68); fill-opacity: 1; white-space: pre;\" transform=\"translate(363.801875,212.5)\">146</text></g><g class=\"point\"><path d=\"M0,188.8V163.2H399.38V188.8Z\" style=\"vector-effect: non-scaling-stroke; opacity: 1; stroke-width: 0.5px; fill: rgb(192, 192, 192); fill-opacity: 1; stroke: rgb(229, 236, 246); stroke-opacity: 1;\"/><text class=\"bartext bartext-inside\" text-anchor=\"middle\" data-notex=\"1\" x=\"0\" y=\"0\" style=\"font-family: 'Open Sans', verdana, arial, sans-serif; font-size: 12px; fill: rgb(68, 68, 68); fill-opacity: 1; white-space: pre;\" transform=\"translate(384.551875,180.5)\">154</text></g><g class=\"point\"><path d=\"M0,156.8V131.2H440.87V156.8Z\" style=\"vector-effect: non-scaling-stroke; opacity: 1; stroke-width: 0.5px; fill: rgb(0, 0, 255); fill-opacity: 1; stroke: rgb(229, 236, 246); stroke-opacity: 1;\"/><text class=\"bartext bartext-inside\" text-anchor=\"middle\" data-notex=\"1\" x=\"0\" y=\"0\" style=\"font-family: 'Open Sans', verdana, arial, sans-serif; font-size: 12px; fill: rgb(255, 255, 255); fill-opacity: 1; white-space: pre;\" transform=\"translate(426.041875,148.5)\">170</text></g><g class=\"point\"><path d=\"M0,124.8V99.2H461.62V124.8Z\" style=\"vector-effect: non-scaling-stroke; opacity: 1; stroke-width: 0.5px; fill: rgb(0, 0, 255); fill-opacity: 1; stroke: rgb(229, 236, 246); stroke-opacity: 1;\"/><text class=\"bartext bartext-inside\" text-anchor=\"middle\" data-notex=\"1\" x=\"0\" y=\"0\" style=\"font-family: 'Open Sans', verdana, arial, sans-serif; font-size: 12px; fill: rgb(255, 255, 255); fill-opacity: 1; white-space: pre;\" transform=\"translate(446.791875,116.5)\">178</text></g><g class=\"point\"><path d=\"M0,92.8V67.2H482.37V92.8Z\" style=\"vector-effect: non-scaling-stroke; opacity: 1; stroke-width: 0.5px; fill: rgb(0, 0, 255); fill-opacity: 1; stroke: rgb(229, 236, 246); stroke-opacity: 1;\"/><text class=\"bartext bartext-inside\" text-anchor=\"middle\" data-notex=\"1\" x=\"0\" y=\"0\" style=\"font-family: 'Open Sans', verdana, arial, sans-serif; font-size: 12px; fill: rgb(255, 255, 255); fill-opacity: 1; white-space: pre;\" transform=\"translate(467.541875,84.5)\">186</text></g><g class=\"point\"><path d=\"M0,60.8V35.2H518.67V60.8Z\" style=\"vector-effect: non-scaling-stroke; opacity: 1; stroke-width: 0.5px; fill: rgb(0, 0, 255); fill-opacity: 1; stroke: rgb(229, 236, 246); stroke-opacity: 1;\"/><text class=\"bartext bartext-inside\" text-anchor=\"middle\" data-notex=\"1\" x=\"0\" y=\"0\" style=\"font-family: 'Open Sans', verdana, arial, sans-serif; font-size: 12px; fill: rgb(255, 255, 255); fill-opacity: 1; white-space: pre;\" transform=\"translate(503.84187499999996,52.5)\">200</text></g><g class=\"point\"><path d=\"M0,28.8V3.2H547.2V28.8Z\" style=\"vector-effect: non-scaling-stroke; opacity: 1; stroke-width: 0.5px; fill: rgb(0, 0, 255); fill-opacity: 1; stroke: rgb(229, 236, 246); stroke-opacity: 1;\"/><text class=\"bartext bartext-inside\" text-anchor=\"middle\" data-notex=\"1\" x=\"0\" y=\"0\" style=\"font-family: 'Open Sans', verdana, arial, sans-serif; font-size: 12px; fill: rgb(255, 255, 255); fill-opacity: 1; white-space: pre;\" transform=\"translate(532.746875,20.5)\">211</text></g></g></g></g></g><g class=\"overplot\"/><path class=\"xlines-above crisp\" d=\"M0,0\" style=\"fill: none;\"/><path class=\"ylines-above crisp\" d=\"M0,0\" style=\"fill: none;\"/><g class=\"overlines-above\"/><g class=\"xaxislayer-above\"/><g class=\"yaxislayer-above\"><g class=\"ytick\"><text text-anchor=\"end\" x=\"143\" y=\"4.199999999999999\" transform=\"translate(0,404)\" style=\"font-family: 'Open Sans', verdana, arial, sans-serif; font-size: 12px; fill: rgb(42, 63, 95); fill-opacity: 1; white-space: pre; opacity: 1;\">Santa Ema</text></g><g class=\"ytick\"><text text-anchor=\"end\" x=\"143\" y=\"4.199999999999999\" transform=\"translate(0,372)\" style=\"font-family: 'Open Sans', verdana, arial, sans-serif; font-size: 12px; fill: rgb(42, 63, 95); fill-opacity: 1; white-space: pre; opacity: 1;\">Trapiche</text></g><g class=\"ytick\"><text text-anchor=\"end\" x=\"143\" y=\"4.199999999999999\" transform=\"translate(0,340)\" style=\"font-family: 'Open Sans', verdana, arial, sans-serif; font-size: 12px; fill: rgb(42, 63, 95); fill-opacity: 1; white-space: pre; opacity: 1;\">Albert Bichot</text></g><g class=\"ytick\"><text text-anchor=\"end\" x=\"143\" y=\"4.199999999999999\" transform=\"translate(0,308)\" style=\"font-family: 'Open Sans', verdana, arial, sans-serif; font-size: 12px; fill: rgb(42, 63, 95); fill-opacity: 1; white-space: pre; opacity: 1;\">Columbia Crest</text></g><g class=\"ytick\"><text text-anchor=\"end\" x=\"143\" y=\"4.199999999999999\" transform=\"translate(0,276)\" style=\"font-family: 'Open Sans', verdana, arial, sans-serif; font-size: 12px; fill: rgb(42, 63, 95); fill-opacity: 1; white-space: pre; opacity: 1;\">Concha y Toro</text></g><g class=\"ytick\"><text text-anchor=\"end\" x=\"143\" y=\"4.199999999999999\" transform=\"translate(0,244)\" style=\"font-family: 'Open Sans', verdana, arial, sans-serif; font-size: 12px; fill: rgb(42, 63, 95); fill-opacity: 1; white-space: pre; opacity: 1;\">Chateau Ste. Michelle</text></g><g class=\"ytick\"><text text-anchor=\"end\" x=\"143\" y=\"4.199999999999999\" transform=\"translate(0,212)\" style=\"font-family: 'Open Sans', verdana, arial, sans-serif; font-size: 12px; fill: rgb(42, 63, 95); fill-opacity: 1; white-space: pre; opacity: 1;\">Louis Latour</text></g><g class=\"ytick\"><text text-anchor=\"end\" x=\"143\" y=\"4.199999999999999\" transform=\"translate(0,180)\" style=\"font-family: 'Open Sans', verdana, arial, sans-serif; font-size: 12px; fill: rgb(42, 63, 95); fill-opacity: 1; white-space: pre; opacity: 1;\">Georges Duboeuf</text></g><g class=\"ytick\"><text text-anchor=\"end\" x=\"143\" y=\"4.199999999999999\" transform=\"translate(0,148)\" style=\"font-family: 'Open Sans', verdana, arial, sans-serif; font-size: 12px; fill: rgb(42, 63, 95); fill-opacity: 1; white-space: pre; opacity: 1;\">DFJ Vinhos</text></g><g class=\"ytick\"><text text-anchor=\"end\" x=\"143\" y=\"4.199999999999999\" transform=\"translate(0,116)\" style=\"font-family: 'Open Sans', verdana, arial, sans-serif; font-size: 12px; fill: rgb(42, 63, 95); fill-opacity: 1; white-space: pre; opacity: 1;\">Wines &amp; Winemakers</text></g></g><g class=\"overaxes-above\"/></g></g><g class=\"polarlayer\"/><g class=\"smithlayer\"/><g class=\"ternarylayer\"/><g class=\"geolayer\"/><g class=\"funnelarealayer\"/><g class=\"pielayer\"/><g class=\"iciclelayer\"/><g class=\"treemaplayer\"/><g class=\"sunburstlayer\"/><g class=\"glimages\"/><defs id=\"topdefs-9bf5fe\"><g class=\"clips\"/></defs><g class=\"layer-above\"><g class=\"imagelayer\"/><g class=\"shapelayer\"/></g><g class=\"infolayer\"><g class=\"g-gtitle\"><text class=\"gtitle\" x=\"40\" y=\"50\" text-anchor=\"start\" dy=\"0em\" style=\"font-family: Arial, monospace; font-size: 24px; fill: rgb(0, 0, 0); opacity: 1; font-weight: normal; white-space: pre;\"><tspan style=\"font-weight:bold\">Número total de vinhos avaliados por adega</tspan></text></g><g class=\"g-ytitle\"/></g></svg>",
      "text/plain": [
       "<IPython.core.display.SVG object>"
      ]
     },
     "metadata": {},
     "output_type": "display_data"
    }
   ],
   "source": [
    "fig = go.Figure()\n",
    "colors              = ['#C0C0C0'] * 10\n",
    "colors[5:10]        = ['blue'] * 5\n",
    "fig.add_trace(go.Bar(\n",
    "                        y = adegas_mais_comuns_df.sort_values(by=['count'], ascending = True)['winery'], x = adegas_mais_comuns_df.sort_values(by=['count'], ascending = True)['count'],\n",
    "                        text = adegas_mais_comuns_df.sort_values(by=['count'], ascending = True)['count'],\n",
    "                        marker_color=colors,\n",
    "                        orientation = 'h'))\n",
    "fig.update_layout(\n",
    "                    title='<b>Número total de vinhos avaliados por adega</b>', showlegend=False, \n",
    "                    yaxis_title=None, xaxis_title=None,\n",
    "                    paper_bgcolor = 'rgb(245,245,220)', # cor de fundo do papel do gráfico\n",
    "                    plot_bgcolor = 'rgb(245,245,220)', # cor de fundo do gráfico\n",
    "                    title_font_family=\"Arial, monospace\",\n",
    "                    title_font_color=\"black\",\n",
    "                    title_font_size=24)\n",
    "fig.update_xaxes(visible = False)\n",
    "fig.update_layout(width = 800, height = 500)\n",
    "fig.update_traces(textposition='inside')\n",
    "img_bytes_adegas = pio.to_image(fig, format=\"svg\")\n",
    "display(SVG(img_bytes_adegas))"
   ]
  },
  {
   "cell_type": "code",
   "execution_count": 15,
   "metadata": {},
   "outputs": [
    {
     "data": {
      "image/svg+xml": "<svg xmlns=\"http://www.w3.org/2000/svg\" xmlns:xlink=\"http://www.w3.org/1999/xlink\" class=\"main-svg\" width=\"1200\" height=\"500\" style=\"\" viewBox=\"0 0 1200 500\"><rect x=\"0\" y=\"0\" width=\"1200\" height=\"500\" style=\"fill: rgb(245, 245, 220); fill-opacity: 1;\"/><defs id=\"defs-2aae9a\"><g class=\"clips\"><clipPath id=\"clip2aae9axyplot\" class=\"plotclip\"><rect width=\"951\" height=\"320\"/></clipPath><clipPath class=\"axesclip\" id=\"clip2aae9ax\"><rect x=\"169\" y=\"0\" width=\"951\" height=\"500\"/></clipPath><clipPath class=\"axesclip\" id=\"clip2aae9ay\"><rect x=\"0\" y=\"100\" width=\"1200\" height=\"320\"/></clipPath><clipPath class=\"axesclip\" id=\"clip2aae9axy\"><rect x=\"169\" y=\"100\" width=\"951\" height=\"320\"/></clipPath></g><g class=\"gradients\"/><g class=\"patterns\"/></defs><g class=\"bglayer\"/><g class=\"layer-below\"><g class=\"imagelayer\"/><g class=\"shapelayer\"/></g><g class=\"cartesianlayer\"><g class=\"subplot xy\"><g class=\"layer-subplot\"><g class=\"shapelayer\"/><g class=\"imagelayer\"/></g><g class=\"gridlayer\"><g class=\"x\"/><g class=\"y\"/></g><g class=\"zerolinelayer\"/><path class=\"xlines-below\"/><path class=\"ylines-below\"/><g class=\"overlines-below\"/><g class=\"xaxislayer-below\"/><g class=\"yaxislayer-below\"/><g class=\"overaxes-below\"/><g class=\"plot\" transform=\"translate(169,100)\" clip-path=\"url(#clip2aae9axyplot)\"><g class=\"barlayer mlayer\"><g class=\"trace bars\" style=\"opacity: 1;\"><g class=\"points\"><g class=\"point\"><path d=\"M0,316.8V291.2H227.53V316.8Z\" style=\"vector-effect: non-scaling-stroke; opacity: 1; stroke-width: 0.5px; fill: rgb(192, 192, 192); fill-opacity: 1; stroke: rgb(229, 236, 246); stroke-opacity: 1;\"/><text class=\"bartext bartext-inside\" text-anchor=\"middle\" data-notex=\"1\" x=\"0\" y=\"0\" style=\"font-family: 'Open Sans', verdana, arial, sans-serif; font-size: 12px; fill: rgb(68, 68, 68); fill-opacity: 1; white-space: pre;\" transform=\"translate(208.889375,308.5)\">2382</text></g><g class=\"point\"><path d=\"M0,284.8V259.2H274.82V284.8Z\" style=\"vector-effect: non-scaling-stroke; opacity: 1; stroke-width: 0.5px; fill: rgb(192, 192, 192); fill-opacity: 1; stroke: rgb(229, 236, 246); stroke-opacity: 1;\"/><text class=\"bartext bartext-inside\" text-anchor=\"middle\" data-notex=\"1\" x=\"0\" y=\"0\" style=\"font-family: 'Open Sans', verdana, arial, sans-serif; font-size: 12px; fill: rgb(68, 68, 68); fill-opacity: 1; white-space: pre;\" transform=\"translate(256.179375,276.5)\">2877</text></g><g class=\"point\"><path d=\"M0,252.8V227.2H284.94V252.8Z\" style=\"vector-effect: non-scaling-stroke; opacity: 1; stroke-width: 0.5px; fill: rgb(192, 192, 192); fill-opacity: 1; stroke: rgb(229, 236, 246); stroke-opacity: 1;\"/><text class=\"bartext bartext-inside\" text-anchor=\"middle\" data-notex=\"1\" x=\"0\" y=\"0\" style=\"font-family: 'Open Sans', verdana, arial, sans-serif; font-size: 12px; fill: rgb(68, 68, 68); fill-opacity: 1; white-space: pre;\" transform=\"translate(266.674375,244.5)\">2983</text></g><g class=\"point\"><path d=\"M0,220.8V195.2H351.14V220.8Z\" style=\"vector-effect: non-scaling-stroke; opacity: 1; stroke-width: 0.5px; fill: rgb(192, 192, 192); fill-opacity: 1; stroke: rgb(229, 236, 246); stroke-opacity: 1;\"/><text class=\"bartext bartext-inside\" text-anchor=\"middle\" data-notex=\"1\" x=\"0\" y=\"0\" style=\"font-family: 'Open Sans', verdana, arial, sans-serif; font-size: 12px; fill: rgb(68, 68, 68); fill-opacity: 1; white-space: pre;\" transform=\"translate(332.499375,212.5)\">3676</text></g><g class=\"point\"><path d=\"M0,188.8V163.2H432.53V188.8Z\" style=\"vector-effect: non-scaling-stroke; opacity: 1; stroke-width: 0.5px; fill: rgb(192, 192, 192); fill-opacity: 1; stroke: rgb(229, 236, 246); stroke-opacity: 1;\"/><text class=\"bartext bartext-inside\" text-anchor=\"middle\" data-notex=\"1\" x=\"0\" y=\"0\" style=\"font-family: 'Open Sans', verdana, arial, sans-serif; font-size: 12px; fill: rgb(68, 68, 68); fill-opacity: 1; white-space: pre;\" transform=\"translate(413.889375,180.5)\">4528</text></g><g class=\"point\"><path d=\"M0,156.8V131.2H552.21V156.8Z\" style=\"vector-effect: non-scaling-stroke; opacity: 1; stroke-width: 0.5px; fill: rgb(192, 192, 192); fill-opacity: 1; stroke: rgb(229, 236, 246); stroke-opacity: 1;\"/><text class=\"bartext bartext-inside\" text-anchor=\"middle\" data-notex=\"1\" x=\"0\" y=\"0\" style=\"font-family: 'Open Sans', verdana, arial, sans-serif; font-size: 12px; fill: rgb(68, 68, 68); fill-opacity: 1; white-space: pre;\" transform=\"translate(533.944375,148.5)\">5781</text></g><g class=\"point\"><path d=\"M0,124.8V99.2H569.79V124.8Z\" style=\"vector-effect: non-scaling-stroke; opacity: 1; stroke-width: 0.5px; fill: rgb(192, 192, 192); fill-opacity: 1; stroke: rgb(229, 236, 246); stroke-opacity: 1;\"/><text class=\"bartext bartext-inside\" text-anchor=\"middle\" data-notex=\"1\" x=\"0\" y=\"0\" style=\"font-family: 'Open Sans', verdana, arial, sans-serif; font-size: 12px; fill: rgb(68, 68, 68); fill-opacity: 1; white-space: pre;\" transform=\"translate(551.149375,116.5)\">5965</text></g><g class=\"point\"><path d=\"M0,92.8V67.2H620.42V92.8Z\" style=\"vector-effect: non-scaling-stroke; opacity: 1; stroke-width: 0.5px; fill: rgb(0, 0, 255); fill-opacity: 1; stroke: rgb(229, 236, 246); stroke-opacity: 1;\"/><text class=\"bartext bartext-inside\" text-anchor=\"middle\" data-notex=\"1\" x=\"0\" y=\"0\" style=\"font-family: 'Open Sans', verdana, arial, sans-serif; font-size: 12px; fill: rgb(255, 255, 255); fill-opacity: 1; white-space: pre;\" transform=\"translate(601.779375,84.5)\">6495</text></g><g class=\"point\"><path d=\"M0,60.8V35.2H783V60.8Z\" style=\"vector-effect: non-scaling-stroke; opacity: 1; stroke-width: 0.5px; fill: rgb(0, 0, 255); fill-opacity: 1; stroke: rgb(229, 236, 246); stroke-opacity: 1;\"/><text class=\"bartext bartext-inside\" text-anchor=\"middle\" data-notex=\"1\" x=\"0\" y=\"0\" style=\"font-family: 'Open Sans', verdana, arial, sans-serif; font-size: 12px; fill: rgb(255, 255, 255); fill-opacity: 1; white-space: pre;\" transform=\"translate(764.359375,52.5)\">8197</text></g><g class=\"point\"><path d=\"M0,28.8V3.2H903.45V28.8Z\" style=\"vector-effect: non-scaling-stroke; opacity: 1; stroke-width: 0.5px; fill: rgb(0, 0, 255); fill-opacity: 1; stroke: rgb(229, 236, 246); stroke-opacity: 1;\"/><text class=\"bartext bartext-inside\" text-anchor=\"middle\" data-notex=\"1\" x=\"0\" y=\"0\" style=\"font-family: 'Open Sans', verdana, arial, sans-serif; font-size: 12px; fill: rgb(255, 255, 255); fill-opacity: 1; white-space: pre;\" transform=\"translate(884.809375,20.5)\">9458</text></g></g></g></g></g><g class=\"overplot\"/><path class=\"xlines-above crisp\" d=\"M0,0\" style=\"fill: none;\"/><path class=\"ylines-above crisp\" d=\"M0,0\" style=\"fill: none;\"/><g class=\"overlines-above\"/><g class=\"xaxislayer-above\"/><g class=\"yaxislayer-above\"><g class=\"ytick\"><text text-anchor=\"end\" x=\"168\" y=\"4.199999999999999\" transform=\"translate(0,404)\" style=\"font-family: 'Open Sans', verdana, arial, sans-serif; font-size: 12px; fill: rgb(42, 63, 95); fill-opacity: 1; white-space: pre; opacity: 1;\">Malbec</text></g><g class=\"ytick\"><text text-anchor=\"end\" x=\"168\" y=\"4.199999999999999\" transform=\"translate(0,372)\" style=\"font-family: 'Open Sans', verdana, arial, sans-serif; font-size: 12px; fill: rgb(42, 63, 95); fill-opacity: 1; white-space: pre; opacity: 1;\">Syrah</text></g><g class=\"ytick\"><text text-anchor=\"end\" x=\"168\" y=\"4.199999999999999\" transform=\"translate(0,340)\" style=\"font-family: 'Open Sans', verdana, arial, sans-serif; font-size: 12px; fill: rgb(42, 63, 95); fill-opacity: 1; white-space: pre; opacity: 1;\">Rosé</text></g><g class=\"ytick\"><text text-anchor=\"end\" x=\"168\" y=\"4.199999999999999\" transform=\"translate(0,308)\" style=\"font-family: 'Open Sans', verdana, arial, sans-serif; font-size: 12px; fill: rgb(42, 63, 95); fill-opacity: 1; white-space: pre; opacity: 1;\">Sauvignon Blanc</text></g><g class=\"ytick\"><text text-anchor=\"end\" x=\"168\" y=\"4.199999999999999\" transform=\"translate(0,276)\" style=\"font-family: 'Open Sans', verdana, arial, sans-serif; font-size: 12px; fill: rgb(42, 63, 95); fill-opacity: 1; white-space: pre; opacity: 1;\">Riesling</text></g><g class=\"ytick\"><text text-anchor=\"end\" x=\"168\" y=\"4.199999999999999\" transform=\"translate(0,244)\" style=\"font-family: 'Open Sans', verdana, arial, sans-serif; font-size: 12px; fill: rgb(42, 63, 95); fill-opacity: 1; white-space: pre; opacity: 1;\">Cabernet Sauvignon</text></g><g class=\"ytick\"><text text-anchor=\"end\" x=\"168\" y=\"4.199999999999999\" transform=\"translate(0,212)\" style=\"font-family: 'Open Sans', verdana, arial, sans-serif; font-size: 12px; fill: rgb(42, 63, 95); fill-opacity: 1; white-space: pre; opacity: 1;\">Bordeaux-style Red Blend</text></g><g class=\"ytick\"><text text-anchor=\"end\" x=\"168\" y=\"4.199999999999999\" transform=\"translate(0,180)\" style=\"font-family: 'Open Sans', verdana, arial, sans-serif; font-size: 12px; fill: rgb(42, 63, 95); fill-opacity: 1; white-space: pre; opacity: 1;\">Red Blend</text></g><g class=\"ytick\"><text text-anchor=\"end\" x=\"168\" y=\"4.199999999999999\" transform=\"translate(0,148)\" style=\"font-family: 'Open Sans', verdana, arial, sans-serif; font-size: 12px; fill: rgb(42, 63, 95); fill-opacity: 1; white-space: pre; opacity: 1;\">Chardonnay</text></g><g class=\"ytick\"><text text-anchor=\"end\" x=\"168\" y=\"4.199999999999999\" transform=\"translate(0,116)\" style=\"font-family: 'Open Sans', verdana, arial, sans-serif; font-size: 12px; fill: rgb(42, 63, 95); fill-opacity: 1; white-space: pre; opacity: 1;\">Pinot Noir</text></g></g><g class=\"overaxes-above\"/></g></g><g class=\"polarlayer\"/><g class=\"smithlayer\"/><g class=\"ternarylayer\"/><g class=\"geolayer\"/><g class=\"funnelarealayer\"/><g class=\"pielayer\"/><g class=\"iciclelayer\"/><g class=\"treemaplayer\"/><g class=\"sunburstlayer\"/><g class=\"glimages\"/><defs id=\"topdefs-2aae9a\"><g class=\"clips\"/></defs><g class=\"layer-above\"><g class=\"imagelayer\"/><g class=\"shapelayer\"/></g><g class=\"infolayer\"><g class=\"g-gtitle\"><text class=\"gtitle\" x=\"60\" y=\"50\" text-anchor=\"start\" dy=\"0em\" style=\"font-family: Arial, monospace; font-size: 24px; fill: rgb(0, 0, 0); opacity: 1; font-weight: normal; white-space: pre;\"><tspan style=\"font-weight:bold\">Tipos de uvas utilizadas nos vinhos mais comuns</tspan></text></g><g class=\"g-ytitle\"/></g></svg>",
      "text/plain": [
       "<IPython.core.display.SVG object>"
      ]
     },
     "metadata": {},
     "output_type": "display_data"
    }
   ],
   "source": [
    "colors = ['#C0C0C0'] * 10\n",
    "colors[7:10] = ['blue'] * 3\n",
    "fig = go.Figure(go.Bar(\n",
    "                x=tipos_vinhos_mais_comuns.sort_values(by = ['count'],ascending=True)['count'], y=tipos_vinhos_mais_comuns.sort_values(by = ['count'],ascending=True)['index'],\n",
    "                marker_color=colors, text = tipos_vinhos_mais_comuns.sort_values(by = ['count'],ascending=True)['count'],\n",
    "                orientation = 'h'\n",
    ")\n",
    ")\n",
    "\n",
    "fig.update_layout(\n",
    "                    title='<b>Tipos de uvas utilizadas nos vinhos mais comuns</b>', showlegend=False, \n",
    "                    yaxis_title=None, xaxis_title=None,\n",
    "                    paper_bgcolor = 'rgb(245,245,220)', # cor de fundo do papel do gráfico\n",
    "                    plot_bgcolor = 'rgb(245,245,220)', # cor de fundo do gráfico\n",
    "                    title_font_family=\"Arial, monospace\",\n",
    "                    title_font_color=\"black\",\n",
    "                    title_font_size=24\n",
    "                )\n",
    "fig.update_xaxes(visible = False)\n",
    "fig.update_traces(textposition='inside')\n",
    "fig.update_layout(width = 1200, height = 500)\n",
    "img_bytes_tipos_vinho = pio.to_image(fig, format=\"svg\")\n",
    "display(SVG(img_bytes_tipos_vinho))"
   ]
  },
  {
   "cell_type": "markdown",
   "metadata": {},
   "source": [
    "A análise inicial partiu da necessidade de avaliar os títulos dos vinhos, pois muitos vinhos possuem muitas informações como adega e local de origem (por exemplo, Lisboa, Londres, dentre outros), tornando interessante fazer uma análise a partir dos títulos, porém a descrição se torna mais importante quando citada em uma avaliação de um vinho, pois é possível procurar por \"sensações\" especificas, generalizando mais o modelo.\n",
    "\n",
    "A montagem do sistema de recomendação será feito da seguinte maneira:\n",
    "\n",
    "1. Remoção de nulos da coluna de avaliador, pois uma das informações importantes que serão dadas para a pessoa é o avaliador, e voltar um nulo para a busca é um problema;\n",
    "2. Remoção dos nulos das colunas escolhidas, as colunas escolhidas são: 'title','description', 'taster_name','variety','winery','points','price'\n",
    "    1. Title - Rotulo do vinho\n",
    "    2. Description - Descrição do vinho\n",
    "    3. Taster name - Nome do avaliador\n",
    "    4. Variety - Tipo do vinho\n",
    "    5. Points - Quantidade de pontos atingidos pelo vinho\n",
    "    6. Price - Preço do vinho\n",
    "3. Montagem de um sistema de recomendação através da biblioteca spaCy, utilizando a similaridade, oferecida pelo próprio pacote."
   ]
  },
  {
   "cell_type": "code",
   "execution_count": 16,
   "metadata": {},
   "outputs": [
    {
     "name": "stderr",
     "output_type": "stream",
     "text": [
      "c:\\Users\\augus\\anaconda3\\lib\\site-packages\\pandas\\util\\_decorators.py:311: SettingWithCopyWarning:\n",
      "\n",
      "\n",
      "A value is trying to be set on a copy of a slice from a DataFrame\n",
      "\n",
      "See the caveats in the documentation: https://pandas.pydata.org/pandas-docs/stable/user_guide/indexing.html#returning-a-view-versus-a-copy\n",
      "\n"
     ]
    }
   ],
   "source": [
    "nlp_df = df[['title','description', 'taster_name','variety','winery','points','price']]\n",
    "nlp_df.dropna(inplace=True)\n",
    "nlp_df.reset_index(drop=True, inplace=True)"
   ]
  },
  {
   "cell_type": "code",
   "execution_count": 17,
   "metadata": {},
   "outputs": [],
   "source": [
    "#Definição das classes de limpeza do texto\n",
    "class predictors (TransformerMixin):\n",
    "    def transform(self, X, **transform_params):\n",
    "        return [clean_text(text) for text in X]\n",
    "    def fit(self, X, y=None, **fit_params):\n",
    "        return self\n",
    "    def get_params(self, deep=True):\n",
    "        return {}\n",
    "\n",
    "# Esta funcao remove espacos em branco no inicio e no fim do texto e converte todo o texto em letras minusculas\n",
    "def clean_text(texto):\n",
    "    return texto.strip().lower()\n",
    "\n",
    "#Esta função seleciona os caracteres que serão selecionados\n",
    "#Token significa um item da nlp, por exemplo, 'Bom dia' possui dois tokens, 'Bom' e 'dia'.\n",
    "#is_stop checa se o token é uma stopword (stopwords são definidas como palavras que não possuem importância para o modelo, como por exemplo, preposições, pronome e dentre outros)\n",
    "#is_punct checa se o token é uma pontuação\n",
    "#is_space checa se o token possui algum espaço em branco\n",
    "#like_url checa se o token possui alguma semelhança com alguma url\n",
    "#is_bracket checa se o token é '[]'\n",
    "#is_left_punct e is_right_punct checa se o valor possui ( ou ), respectivamente\n",
    "def tokenizer(texto):\n",
    "    doc = nlp(texto)\n",
    "    tokens = [token for token in doc if ((not token.is_stop) & (not token.is_punct) & (not token.is_space) & (not token.is_quote) & (not token.like_url) & (not token.is_bracket) & (not token.is_left_punct) & (not token.is_right_punct))]\n",
    "    tokens = [token.lemma_.lower().strip() for token in tokens]\n",
    "    doc = nlp(' '.join(tokens))\n",
    "    return doc"
   ]
  },
  {
   "cell_type": "code",
   "execution_count": 18,
   "metadata": {},
   "outputs": [],
   "source": [
    "# Criação do modelo de similaridade\n",
    "def nlp_simmilarity(wine_name):\n",
    "    \n",
    "    description = input('O vinho tem alguma descrição? (S/N) ')\n",
    "\n",
    "    if description.lower() == 's':\n",
    "        description = input('Digite a descrição: ')\n",
    "    else:\n",
    "        description = None\n",
    "    # Esta função remove espacos em branco no inicio e no fim do texto e converte todo o texto em letras minusculas e tokeniza o texto\n",
    "    documents_title = []\n",
    "    documents_wine_name = []\n",
    "    wine_name = clean_text(wine_name)\n",
    "    wine_name = tokenizer(wine_name)\n",
    "    doc = nlp(wine_name)\n",
    "\n",
    "    # Esse loop é responsável por realizar a similaridade entre o input da função do vinho e todos os vinhos do dataset\n",
    "    for i in nlp_df['title']:\n",
    "        # if responsável por verificar se algum vinho já foi avaliado, para não existir duplicatas\n",
    "        if i in documents_wine_name:\n",
    "            continue\n",
    "        else:\n",
    "            sentence = clean_text(i)\n",
    "            sentence = tokenizer(sentence)\n",
    "            sentence = nlp(sentence)\n",
    "            sim = doc.similarity(sentence)  \n",
    "            if sim == 1:\n",
    "                continue\n",
    "            else:\n",
    "                documents_title.append(sim)\n",
    "                documents_wine_name.append(i)\n",
    "\n",
    "    max_documents_title = []\n",
    "\n",
    "    # Loop responsável por selecionar os vinhos com maior similaridade\n",
    "    while len(max_documents_title) != 500:\n",
    "        max_value = max(documents_title)\n",
    "        index = documents_title.index(max_value)\n",
    "        max_documents_title.append([index, max_value])\n",
    "        documents_title[index] = 0\n",
    "        \n",
    "    new_nlp_df = pd.DataFrame(columns=['title','description', 'taster_name','variety','winery','points','price'])\n",
    "\n",
    "    # Criação de um loop para criar um dataframe com os vinhos selecionados e adicionar a pontução do vinho através da coluna 'title_score'\n",
    "    for i in range(len(max_documents_title)):\n",
    "        new_nlp_df = new_nlp_df.append(nlp_df.iloc[max_documents_title[i][0]])\n",
    "        new_nlp_df['title_score'] = max_documents_title[i][1]\n",
    "    new_nlp_df.reset_index(drop=True, inplace=True)\n",
    "    wines = new_nlp_df.sort_values(by = ['title_score'], ascending = False).head(10)\n",
    "    \n",
    "    # if responsável por verificar se o usuário imputou alguma descrição\n",
    "    # a montagem da lógica é bem parecida com a lógica anterior, a única diferença é que ela adiciona tanto a similaridade do titulo como a similaridade da desrição\n",
    "    if description == None:\n",
    "        pass\n",
    "    else:\n",
    "        description_score = []\n",
    "        documents_description = []\n",
    "        description = clean_text(description)\n",
    "        description = tokenizer(description)\n",
    "        doc2 = nlp(description)\n",
    "        for i in new_nlp_df['description']:\n",
    "            if i in documents_description:\n",
    "                continue\n",
    "            else:\n",
    "                sentence = nlp(i)\n",
    "                sim = doc2.similarity(sentence)  \n",
    "                if sim == 1:\n",
    "                    continue\n",
    "                else:\n",
    "                    description_score.append(sim)\n",
    "                    documents_description.append(i)\n",
    "\n",
    "        max_description_score = []\n",
    "\n",
    "        while len(max_description_score) != 100:\n",
    "            max_value = max(description_score)\n",
    "            index = description_score.index(max_value)\n",
    "            max_description_score.append([index,max_value])\n",
    "            description_score[index] = 0\n",
    "\n",
    "        new_nlp_df_description = pd.DataFrame(columns=['title','description', 'taster_name','variety','winery','points','price','title_score'])\n",
    "\n",
    "        for i in range(len(max_description_score)):\n",
    "            new_nlp_df_description = new_nlp_df_description.append(new_nlp_df.iloc[max_description_score[i][0]])\n",
    "            new_nlp_df_description['description_score'] = max_description_score[i][1]\n",
    "        new_nlp_df_description.reset_index(drop=True, inplace=True)\n",
    "        new_nlp_df = new_nlp_df_description\n",
    "        wines = new_nlp_df.sort_values(by = ['description_score', 'title_score'], ascending = False).head(10)\n",
    "        \n",
    "    # Montagem das strings de recomendação\n",
    "    if description is None:\n",
    "        print('Os vinhos recomendados são:')\n",
    "        for i in range(len(wines)):\n",
    "            print('\\t O vinho recomendado é: ' + f'{bcolors.BOLD}{bcolors.OKGREEN}{wines.title.iloc[i]}{bcolors.ENDC}' + ' com ' + str(round(wines.iloc[i]['title_score'],2)) + ' pontos de similaridade, com valor de ' + str(wines.iloc[i]['price']) + ' doláres e ' + str(wines.iloc[i]['points']) + ' pontos de avaliação com o avaliador ' + wines.iloc[i]['taster_name'] + ' da adega ' + f'{bcolors.BOLD}{bcolors.OKCYAN}{wines.winery.iloc[i]}{bcolors.ENDC}'  + '\\n')\n",
    "    elif description is not None:\n",
    "        print('Os vinhos recomendados são:')\n",
    "        for i in range(len(wines)):\n",
    "            print('\\t O vinho recomendado é: ' + f'{bcolors.BOLD}{bcolors.OKGREEN}{wines.title.iloc[i]}{bcolors.ENDC}' + ' com ' + str(round(np.average([wines.iloc[i]['title_score'],wines.iloc[i]['description_score']], weights=[1,3]),2)) + ' pontos de similaridade, com valor de ' + str(wines.iloc[i]['price']) + ' doláres e ' + str(wines.iloc[i]['points']) + ' pontos de avaliação com o avaliador ' + wines.iloc[i]['taster_name'] + ' da adega ' + f'{bcolors.BOLD}{bcolors.OKCYAN}{wines.winery.iloc[i]}{bcolors.ENDC}' + '\\n')"
   ]
  },
  {
   "cell_type": "code",
   "execution_count": 19,
   "metadata": {},
   "outputs": [
    {
     "name": "stdout",
     "output_type": "stream",
     "text": [
      "Os vinhos recomendados são:\n",
      "\t O vinho recomendado é: \u001b[1m\u001b[92mPrevious 2013 Chardonnay (Sonoma County)\u001b[0m com 0.65 pontos de similaridade, com valor de 22.0 doláres e 87 pontos de avaliação com o avaliador Virginie Boone da adega \u001b[1m\u001b[96mPrevious\u001b[0m\n",
      "\n",
      "\t O vinho recomendado é: \u001b[1m\u001b[92mBurnt Bridge 2011 Les Collines Vineyard Merlot (Walla Walla Valley (WA))\u001b[0m com 0.65 pontos de similaridade, com valor de 32.0 doláres e 90 pontos de avaliação com o avaliador Paul Gregutt da adega \u001b[1m\u001b[96mBurnt Bridge\u001b[0m\n",
      "\n",
      "\t O vinho recomendado é: \u001b[1m\u001b[92mKarl Schaefer 2013 Sonnentropfen Wachenheimer Feinherb Riesling (Pfalz)\u001b[0m com 0.65 pontos de similaridade, com valor de 29.0 doláres e 91 pontos de avaliação com o avaliador Anna Lee C. Iijima da adega \u001b[1m\u001b[96mKarl Schaefer\u001b[0m\n",
      "\n",
      "\t O vinho recomendado é: \u001b[1m\u001b[92mMontGras 2014 Antu Syrah (Colchagua Valley)\u001b[0m com 0.65 pontos de similaridade, com valor de 23.0 doláres e 90 pontos de avaliação com o avaliador Michael Schachner da adega \u001b[1m\u001b[96mMontGras\u001b[0m\n",
      "\n",
      "\t O vinho recomendado é: \u001b[1m\u001b[92mJ. Portugal Ramos 2012 F'oz Red (Alentejano)\u001b[0m com 0.65 pontos de similaridade, com valor de 21.0 doláres e 86 pontos de avaliação com o avaliador Roger Voss da adega \u001b[1m\u001b[96mJ. Portugal Ramos\u001b[0m\n",
      "\n",
      "\t O vinho recomendado é: \u001b[1m\u001b[92mBruliam 2013 Rocky Ridge Vineyard Zinfandel (Rockpile)\u001b[0m com 0.65 pontos de similaridade, com valor de 38.0 doláres e 91 pontos de avaliação com o avaliador Virginie Boone da adega \u001b[1m\u001b[96mBruliam\u001b[0m\n",
      "\n",
      "\t O vinho recomendado é: \u001b[1m\u001b[92mWeingut Niklas 2012 Pinot Bianco (Alto Adige)\u001b[0m com 0.65 pontos de similaridade, com valor de 22.0 doláres e 88 pontos de avaliação com o avaliador Kerin O’Keefe da adega \u001b[1m\u001b[96mWeingut Niklas\u001b[0m\n",
      "\n",
      "\t O vinho recomendado é: \u001b[1m\u001b[92mKellerei Kaltern Caldaro 2012 Söll Pinot Grigio (Alto Adige)\u001b[0m com 0.65 pontos de similaridade, com valor de 25.0 doláres e 90 pontos de avaliação com o avaliador Kerin O’Keefe da adega \u001b[1m\u001b[96mKellerei Kaltern Caldaro\u001b[0m\n",
      "\n",
      "\t O vinho recomendado é: \u001b[1m\u001b[92mMaquis 2010 Cabernet Sauvignon (Colchagua Valley)\u001b[0m com 0.65 pontos de similaridade, com valor de 19.0 doláres e 87 pontos de avaliação com o avaliador Michael Schachner da adega \u001b[1m\u001b[96mMaquis\u001b[0m\n",
      "\n",
      "\t O vinho recomendado é: \u001b[1m\u001b[92mMargalit 2010 Kadita Single Vineyard Cabernet Sauvignon (Galilee)\u001b[0m com 0.65 pontos de similaridade, com valor de 75.0 doláres e 88 pontos de avaliação com o avaliador Lauren Buzzeo da adega \u001b[1m\u001b[96mMargalit\u001b[0m\n",
      "\n"
     ]
    }
   ],
   "source": [
    "nlp_simmilarity('Quinta')"
   ]
  },
  {
   "cell_type": "markdown",
   "metadata": {},
   "source": [
    "## Projeto \"Wines for U\""
   ]
  },
  {
   "cell_type": "markdown",
   "metadata": {},
   "source": [
    "O projeto 'Wines for U' apresenta a montagem de um poderoso algoritmo de recomendação utilizando uma biblioteca bem conhecida no mercado chamada spaCy, que disponibiliza funções que realizam a limpeza dos textos e também calculam a semelhança entre os vinhos através do rótulo, outra vantagem que pode ser apresentada através da spaCy é que a biblioteca possui suporte a GPUs, fazendo com que os modelos apresentados possam rodar em plataformas gratuitas e possuírem GPU, como o Google Colab.\n",
    "\n",
    "O objetivo principal deste projeto é realizar uma generalização dos vinhos não ficando restrito a uma adega especifica, muitas adegas ao redor do mundo possuem sistemas de recomendação dentro de seus *web sites*, porém sempre recomendando vinhos da própria adega (como por exemplo a Catena Zapata), objetivo do algoritmo é generalizar, obter características de vinhos de várias adegas agrupadas na base de dados e realizar a recomendação de várias adegas ao cliente, buscando sempre a diversidade.\n",
    "\n",
    "O algoritmo se assemelha bastante com o o site \"Vivino\", que faz a recomendação em cima do vinho, faixa de preço, classificação (nota) e por rótulo. O projeto \"Wines for U\" trouxe um diferencial, e seu diferencial é a busca de vinhos através de descrição, também, fazendo com que o cliente possa sugerir vinhos através de palavras-chave."
   ]
  },
  {
   "cell_type": "markdown",
   "metadata": {},
   "source": [
    "<img src = https://i.imgur.com/O8sIl7C.png>\n",
    "\n",
    "Fonte: [Vivino](https://www.vivino.com/)\n"
   ]
  },
  {
   "cell_type": "markdown",
   "metadata": {},
   "source": [
    "O primeiro passo para a realização do projeto é a construção de gráficos que representam um pouco da base de dados que será estudada, com isso houve a construção de quatro gráficos, os primeiros gráficos representam os avaliadores que mais aparecem, divididos com os avaliadores que possuem *twitter* e os que não possuem *twitter*. O objetivo destes gráficos é destacar os principais avaliadores no banco de dados."
   ]
  },
  {
   "cell_type": "code",
   "execution_count": 20,
   "metadata": {},
   "outputs": [
    {
     "data": {
      "image/svg+xml": "<svg xmlns=\"http://www.w3.org/2000/svg\" xmlns:xlink=\"http://www.w3.org/1999/xlink\" class=\"main-svg\" width=\"1200\" height=\"500\" style=\"\" viewBox=\"0 0 1200 500\"><rect x=\"0\" y=\"0\" width=\"1200\" height=\"500\" style=\"fill: rgb(245, 245, 220); fill-opacity: 1;\"/><defs id=\"defs-8ae0dd\"><g class=\"clips\"><clipPath id=\"clip8ae0ddxyplot\" class=\"plotclip\"><rect width=\"464.85\" height=\"317\"/></clipPath><clipPath id=\"clip8ae0ddx2y2plot\" class=\"plotclip\"><rect width=\"464.84999999999997\" height=\"317\"/></clipPath><clipPath class=\"axesclip\" id=\"clip8ae0ddx\"><rect x=\"80\" y=\"0\" width=\"464.85\" height=\"500\"/></clipPath><clipPath class=\"axesclip\" id=\"clip8ae0ddy\"><rect x=\"0\" y=\"100\" width=\"1200\" height=\"317\"/></clipPath><clipPath class=\"axesclip\" id=\"clip8ae0ddxy\"><rect x=\"80\" y=\"100\" width=\"464.85\" height=\"317\"/></clipPath><clipPath class=\"axesclip\" id=\"clip8ae0ddy2\"><rect x=\"0\" y=\"100\" width=\"1200\" height=\"317\"/></clipPath><clipPath class=\"axesclip\" id=\"clip8ae0ddxy2\"><rect x=\"80\" y=\"100\" width=\"464.85\" height=\"317\"/></clipPath><clipPath class=\"axesclip\" id=\"clip8ae0ddx2\"><rect x=\"648.1500000000001\" y=\"0\" width=\"464.84999999999997\" height=\"500\"/></clipPath><clipPath class=\"axesclip\" id=\"clip8ae0ddx2y\"><rect x=\"648.1500000000001\" y=\"100\" width=\"464.84999999999997\" height=\"317\"/></clipPath><clipPath class=\"axesclip\" id=\"clip8ae0ddx2y2\"><rect x=\"648.1500000000001\" y=\"100\" width=\"464.84999999999997\" height=\"317\"/></clipPath></g><g class=\"gradients\"/><g class=\"patterns\"/></defs><g class=\"bglayer\"/><g class=\"layer-below\"><g class=\"imagelayer\"/><g class=\"shapelayer\"/></g><g class=\"cartesianlayer\"><g class=\"subplot xy\"><g class=\"layer-subplot\"><g class=\"shapelayer\"/><g class=\"imagelayer\"/></g><g class=\"gridlayer\"><g class=\"x\"/><g class=\"y\"/></g><g class=\"zerolinelayer\"/><path class=\"xlines-below\"/><path class=\"ylines-below\"/><g class=\"overlines-below\"/><g class=\"xaxislayer-below\"/><g class=\"yaxislayer-below\"/><g class=\"overaxes-below\"/><g class=\"plot\" transform=\"translate(80,100)\" clip-path=\"url(#clip8ae0ddxyplot)\"><g class=\"barlayer mlayer\"><g class=\"trace bars\" style=\"opacity: 1;\"><g class=\"points\"><g class=\"point\"><path d=\"M4.65,317V15.85H41.84V317Z\" style=\"vector-effect: non-scaling-stroke; opacity: 1; stroke-width: 0.5px; fill: rgb(0, 0, 255); fill-opacity: 1; stroke: rgb(229, 236, 246); stroke-opacity: 1;\"/><text class=\"bartext bartext-outside\" text-anchor=\"middle\" data-notex=\"1\" x=\"0\" y=\"0\" style=\"font-family: 'Open Sans', verdana, arial, sans-serif; font-size: 12px; fill: rgb(42, 63, 95); fill-opacity: 1; white-space: pre;\" transform=\"translate(23.06402676399027,9.954428223844282)scale(0.965190592051906)\">23558</text></g><g class=\"point\"><path d=\"M51.13,317V137.46H88.32V317Z\" style=\"vector-effect: non-scaling-stroke; opacity: 1; stroke-width: 0.5px; fill: rgb(0, 0, 255); fill-opacity: 1; stroke: rgb(229, 236, 246); stroke-opacity: 1;\"/><text class=\"bartext bartext-outside\" text-anchor=\"middle\" data-notex=\"1\" x=\"0\" y=\"0\" style=\"font-family: 'Open Sans', verdana, arial, sans-serif; font-size: 12px; fill: rgb(42, 63, 95); fill-opacity: 1; white-space: pre;\" transform=\"translate(69.54402676399026,131.5644282238443)scale(0.9651905920519057)\">14045</text></g><g class=\"point\"><path d=\"M97.62,317V193.27H134.81V317Z\" style=\"vector-effect: non-scaling-stroke; opacity: 1; stroke-width: 0.5px; fill: rgb(0, 0, 255); fill-opacity: 1; stroke: rgb(229, 236, 246); stroke-opacity: 1;\"/><text class=\"bartext bartext-outside\" text-anchor=\"middle\" data-notex=\"1\" x=\"0\" y=\"0\" style=\"font-family: 'Open Sans', verdana, arial, sans-serif; font-size: 12px; fill: rgb(42, 63, 95); fill-opacity: 1; white-space: pre;\" transform=\"translate(116.0275,187.27)\">9679</text></g><g class=\"point\"><path d=\"M144.1,317V203.65H181.29V317Z\" style=\"vector-effect: non-scaling-stroke; opacity: 1; stroke-width: 0.5px; fill: rgb(0, 0, 255); fill-opacity: 1; stroke: rgb(229, 236, 246); stroke-opacity: 1;\"/><text class=\"bartext bartext-outside\" text-anchor=\"middle\" data-notex=\"1\" x=\"0\" y=\"0\" style=\"font-family: 'Open Sans', verdana, arial, sans-serif; font-size: 12px; fill: rgb(42, 63, 95); fill-opacity: 1; white-space: pre;\" transform=\"translate(162.5075,197.65)\">8867</text></g><g class=\"point\"><path d=\"M190.59,317V205.7H227.78V317Z\" style=\"vector-effect: non-scaling-stroke; opacity: 1; stroke-width: 0.5px; fill: rgb(0, 0, 255); fill-opacity: 1; stroke: rgb(229, 236, 246); stroke-opacity: 1;\"/><text class=\"bartext bartext-outside\" text-anchor=\"middle\" data-notex=\"1\" x=\"0\" y=\"0\" style=\"font-family: 'Open Sans', verdana, arial, sans-serif; font-size: 12px; fill: rgb(42, 63, 95); fill-opacity: 1; white-space: pre;\" transform=\"translate(208.9975,199.7)\">8707</text></g><g class=\"point\"><path d=\"M237.07,317V243.76H274.26V317Z\" style=\"vector-effect: non-scaling-stroke; opacity: 1; stroke-width: 0.5px; fill: rgb(192, 192, 192); fill-opacity: 1; stroke: rgb(229, 236, 246); stroke-opacity: 1;\"/><text class=\"bartext bartext-outside\" text-anchor=\"middle\" data-notex=\"1\" x=\"0\" y=\"0\" style=\"font-family: 'Open Sans', verdana, arial, sans-serif; font-size: 12px; fill: rgb(42, 63, 95); fill-opacity: 1; white-space: pre;\" transform=\"translate(255.4775,237.76)\">5729</text></g><g class=\"point\"><path d=\"M283.56,317V256.09H320.75V317Z\" style=\"vector-effect: non-scaling-stroke; opacity: 1; stroke-width: 0.5px; fill: rgb(192, 192, 192); fill-opacity: 1; stroke: rgb(229, 236, 246); stroke-opacity: 1;\"/><text class=\"bartext bartext-outside\" text-anchor=\"middle\" data-notex=\"1\" x=\"0\" y=\"0\" style=\"font-family: 'Open Sans', verdana, arial, sans-serif; font-size: 12px; fill: rgb(42, 63, 95); fill-opacity: 1; white-space: pre;\" transform=\"translate(301.9675,250.08999999999997)\">4765</text></g><g class=\"point\"><path d=\"M330.04,317V259.99H367.23V317Z\" style=\"vector-effect: non-scaling-stroke; opacity: 1; stroke-width: 0.5px; fill: rgb(192, 192, 192); fill-opacity: 1; stroke: rgb(229, 236, 246); stroke-opacity: 1;\"/><text class=\"bartext bartext-outside\" text-anchor=\"middle\" data-notex=\"1\" x=\"0\" y=\"0\" style=\"font-family: 'Open Sans', verdana, arial, sans-serif; font-size: 12px; fill: rgb(42, 63, 95); fill-opacity: 1; white-space: pre;\" transform=\"translate(348.4475,253.99)\">4460</text></g><g class=\"point\"><path d=\"M376.53,317V268.86H413.72V317Z\" style=\"vector-effect: non-scaling-stroke; opacity: 1; stroke-width: 0.5px; fill: rgb(192, 192, 192); fill-opacity: 1; stroke: rgb(229, 236, 246); stroke-opacity: 1;\"/><text class=\"bartext bartext-outside\" text-anchor=\"middle\" data-notex=\"1\" x=\"0\" y=\"0\" style=\"font-family: 'Open Sans', verdana, arial, sans-serif; font-size: 12px; fill: rgb(42, 63, 95); fill-opacity: 1; white-space: pre;\" transform=\"translate(394.9375,262.86)\">3766</text></g><g class=\"point\"><path d=\"M423.01,317V274.96H460.2V317Z\" style=\"vector-effect: non-scaling-stroke; opacity: 1; stroke-width: 0.5px; fill: rgb(192, 192, 192); fill-opacity: 1; stroke: rgb(229, 236, 246); stroke-opacity: 1;\"/><text class=\"bartext bartext-outside\" text-anchor=\"middle\" data-notex=\"1\" x=\"0\" y=\"0\" style=\"font-family: 'Open Sans', verdana, arial, sans-serif; font-size: 12px; fill: rgb(42, 63, 95); fill-opacity: 1; white-space: pre;\" transform=\"translate(441.4175,268.96)\">3289</text></g></g></g></g></g><g class=\"overplot\"/><path class=\"xlines-above crisp\" style=\"fill: none;\" d=\"M0,0\"/><path class=\"ylines-above crisp\" style=\"fill: none;\" d=\"M0,0\"/><g class=\"overlines-above\"/><g class=\"xaxislayer-above\"><g class=\"xtick\"><text text-anchor=\"start\" x=\"0\" y=\"430\" transform=\"translate(103.24,0) rotate(30,0,424)\" style=\"font-family: 'Open Sans', verdana, arial, sans-serif; font-size: 12px; fill: rgb(42, 63, 95); fill-opacity: 1; white-space: pre; opacity: 1;\">Roger Voss</text></g><g class=\"xtick\"><text text-anchor=\"start\" x=\"0\" y=\"430\" transform=\"translate(149.73000000000002,0) rotate(30,0,424)\" style=\"font-family: 'Open Sans', verdana, arial, sans-serif; font-size: 12px; fill: rgb(42, 63, 95); fill-opacity: 1; white-space: pre; opacity: 1;\">Michael Schachner</text></g><g class=\"xtick\"><text text-anchor=\"start\" x=\"0\" y=\"430\" transform=\"translate(196.20999999999998,0) rotate(30,0,424)\" style=\"font-family: 'Open Sans', verdana, arial, sans-serif; font-size: 12px; fill: rgb(42, 63, 95); fill-opacity: 1; white-space: pre; opacity: 1;\">Kerin O’Keefe</text></g><g class=\"xtick\"><text text-anchor=\"start\" x=\"0\" y=\"430\" transform=\"translate(242.7,0) rotate(30,0,424)\" style=\"font-family: 'Open Sans', verdana, arial, sans-serif; font-size: 12px; fill: rgb(42, 63, 95); fill-opacity: 1; white-space: pre; opacity: 1;\">Paul Gregutt</text></g><g class=\"xtick\"><text text-anchor=\"start\" x=\"0\" y=\"430\" transform=\"translate(289.18,0) rotate(30,0,424)\" style=\"font-family: 'Open Sans', verdana, arial, sans-serif; font-size: 12px; fill: rgb(42, 63, 95); fill-opacity: 1; white-space: pre; opacity: 1;\">Virginie Boone</text></g><g class=\"xtick\"><text text-anchor=\"start\" x=\"0\" y=\"430\" transform=\"translate(335.66999999999996,0) rotate(30,0,424)\" style=\"font-family: 'Open Sans', verdana, arial, sans-serif; font-size: 12px; fill: rgb(42, 63, 95); fill-opacity: 1; white-space: pre; opacity: 1;\">Matt Kettmann</text></g><g class=\"xtick\"><text text-anchor=\"start\" x=\"0\" y=\"430\" transform=\"translate(382.15,0) rotate(30,0,424)\" style=\"font-family: 'Open Sans', verdana, arial, sans-serif; font-size: 12px; fill: rgb(42, 63, 95); fill-opacity: 1; white-space: pre; opacity: 1;\">Joe Czerwinski</text></g><g class=\"xtick\"><text text-anchor=\"start\" x=\"0\" y=\"430\" transform=\"translate(428.64,0) rotate(30,0,424)\" style=\"font-family: 'Open Sans', verdana, arial, sans-serif; font-size: 12px; fill: rgb(42, 63, 95); fill-opacity: 1; white-space: pre; opacity: 1;\">Sean P. Sullivan</text></g><g class=\"xtick\"><text text-anchor=\"start\" x=\"0\" y=\"430\" transform=\"translate(475.12,0) rotate(30,0,424)\" style=\"font-family: 'Open Sans', verdana, arial, sans-serif; font-size: 12px; fill: rgb(42, 63, 95); fill-opacity: 1; white-space: pre; opacity: 1;\">Jim Gordon</text></g><g class=\"xtick\"><text text-anchor=\"start\" x=\"0\" y=\"430\" transform=\"translate(521.61,0) rotate(30,0,424)\" style=\"font-family: 'Open Sans', verdana, arial, sans-serif; font-size: 12px; fill: rgb(42, 63, 95); fill-opacity: 1; white-space: pre; opacity: 1;\">Anne Krebiehl MW</text></g></g><g class=\"yaxislayer-above\"/><g class=\"overaxes-above\"/></g><g class=\"subplot x2y2\"><g class=\"layer-subplot\"><g class=\"shapelayer\"/><g class=\"imagelayer\"/></g><g class=\"gridlayer\"><g class=\"x2\"/><g class=\"y2\"/></g><g class=\"zerolinelayer\"/><path class=\"xlines-below\"/><path class=\"ylines-below\"/><g class=\"overlines-below\"/><g class=\"xaxislayer-below\"/><g class=\"yaxislayer-below\"/><g class=\"overaxes-below\"/><g class=\"plot\" transform=\"translate(648.1500000000001,100)\" clip-path=\"url(#clip8ae0ddx2y2plot)\"><g class=\"barlayer mlayer\"><g class=\"trace bars\" style=\"opacity: 1;\"><g class=\"points\"><g class=\"point\"><path d=\"M15.49,317V15.85H139.45V317Z\" style=\"vector-effect: non-scaling-stroke; opacity: 1; stroke-width: 0.5px; fill: rgb(0, 0, 255); fill-opacity: 1; stroke: rgb(229, 236, 246); stroke-opacity: 1;\"/><text class=\"bartext bartext-outside\" text-anchor=\"middle\" data-notex=\"1\" x=\"0\" y=\"0\" style=\"font-family: 'Open Sans', verdana, arial, sans-serif; font-size: 12px; fill: rgb(42, 63, 95); fill-opacity: 1; white-space: pre;\" transform=\"translate(77.2825,9.85)\">4017</text></g><g class=\"point\"><path d=\"M170.45,317V288.29H294.4V317Z\" style=\"vector-effect: non-scaling-stroke; opacity: 1; stroke-width: 0.5px; fill: rgb(192, 192, 192); fill-opacity: 1; stroke: rgb(229, 236, 246); stroke-opacity: 1;\"/><text class=\"bartext bartext-outside\" text-anchor=\"middle\" data-notex=\"1\" x=\"0\" y=\"0\" style=\"font-family: 'Open Sans', verdana, arial, sans-serif; font-size: 12px; fill: rgb(42, 63, 95); fill-opacity: 1; white-space: pre;\" transform=\"translate(232.42499999999998,282.29)\">383</text></g><g class=\"point\"><path d=\"M325.4,317V307.33H449.36V317Z\" style=\"vector-effect: non-scaling-stroke; opacity: 1; stroke-width: 0.5px; fill: rgb(192, 192, 192); fill-opacity: 1; stroke: rgb(229, 236, 246); stroke-opacity: 1;\"/><text class=\"bartext bartext-outside\" text-anchor=\"middle\" data-notex=\"1\" x=\"0\" y=\"0\" style=\"font-family: 'Open Sans', verdana, arial, sans-serif; font-size: 12px; fill: rgb(42, 63, 95); fill-opacity: 1; white-space: pre;\" transform=\"translate(387.1925,301.33)\">129</text></g></g></g></g></g><g class=\"overplot\"/><path class=\"xlines-above crisp\" style=\"fill: none;\" d=\"M0,0\"/><path class=\"ylines-above crisp\" style=\"fill: none;\" d=\"M0,0\"/><g class=\"overlines-above\"/><g class=\"xaxislayer-above\"><g class=\"x2tick\"><text text-anchor=\"middle\" x=\"0\" y=\"430\" transform=\"translate(725.6200000000001,0)\" style=\"font-family: 'Open Sans', verdana, arial, sans-serif; font-size: 12px; fill: rgb(42, 63, 95); fill-opacity: 1; white-space: pre; opacity: 1;\">Anna Lee C. Iijima</text></g><g class=\"x2tick\"><text text-anchor=\"middle\" x=\"0\" y=\"430\" transform=\"translate(880.5800000000002,0)\" style=\"font-family: 'Open Sans', verdana, arial, sans-serif; font-size: 12px; fill: rgb(42, 63, 95); fill-opacity: 1; white-space: pre; opacity: 1;\">Alexander Peartree</text></g><g class=\"x2tick\"><text text-anchor=\"middle\" x=\"0\" y=\"430\" transform=\"translate(1035.5300000000002,0)\" style=\"font-family: 'Open Sans', verdana, arial, sans-serif; font-size: 12px; fill: rgb(42, 63, 95); fill-opacity: 1; white-space: pre; opacity: 1;\">Carrie Dykes</text></g></g><g class=\"yaxislayer-above\"/><g class=\"overaxes-above\"/></g></g><g class=\"polarlayer\"/><g class=\"smithlayer\"/><g class=\"ternarylayer\"/><g class=\"geolayer\"/><g class=\"funnelarealayer\"/><g class=\"pielayer\"/><g class=\"iciclelayer\"/><g class=\"treemaplayer\"/><g class=\"sunburstlayer\"/><g class=\"glimages\"/><defs id=\"topdefs-8ae0dd\"><g class=\"clips\"/></defs><g class=\"layer-above\"><g class=\"imagelayer\"/><g class=\"shapelayer\"><path data-index=\"0\" fill-rule=\"evenodd\" d=\"M80,417H1164.65V96.83H80Z\" style=\"opacity: 1; stroke: rgb(255, 255, 255); stroke-opacity: 1; fill: rgb(0, 0, 0); fill-opacity: 0; stroke-width: 1px;\"/><path data-index=\"1\" fill-rule=\"evenodd\" d=\"M596.5,417L596.5,100\" style=\"opacity: 1; stroke: rgb(255, 255, 255); stroke-opacity: 1; fill: rgb(0, 0, 0); fill-opacity: 0; stroke-width: 1px;\"/></g></g><g class=\"infolayer\"><g class=\"g-gtitle\"><text class=\"gtitle\" x=\"60\" y=\"50\" text-anchor=\"start\" dy=\"0em\" style=\"font-family: Arial, monospace; font-size: 24px; fill: rgb(0, 0, 0); opacity: 1; font-weight: normal; white-space: pre;\"><tspan style=\"font-weight:bold\">Avaliadores mais comuns</tspan></text></g><g class=\"g-xtitle\"/><g class=\"g-x2title\"/><g class=\"annotation\" data-index=\"0\" style=\"opacity: 1;\"><g class=\"annotation-text-g\" transform=\"rotate(0,312.425,79.79999999999998)\"><g class=\"cursor-pointer\" transform=\"translate(202,68)\"><rect class=\"bg\" x=\"0.5\" y=\"0.5\" width=\"219\" height=\"22\" style=\"stroke-width: 1px; stroke: rgb(0, 0, 0); stroke-opacity: 0; fill: rgb(0, 0, 0); fill-opacity: 0;\"/><text class=\"annotation-text\" text-anchor=\"middle\" x=\"110.625\" y=\"18\" style=\"font-family: 'Open Sans', verdana, arial, sans-serif; font-size: 16px; fill: rgb(42, 63, 95); fill-opacity: 1; white-space: pre;\"><tspan style=\"font-weight:bold\">Avaliadores com twitter</tspan></text></g></g></g><g class=\"annotation\" data-index=\"1\" style=\"opacity: 1;\"><g class=\"annotation-text-g\" transform=\"rotate(0,880.575,79.79999999999998)\"><g class=\"cursor-pointer\" transform=\"translate(771,68)\"><rect class=\"bg\" x=\"0.5\" y=\"0.5\" width=\"219\" height=\"22\" style=\"stroke-width: 1px; stroke: rgb(0, 0, 0); stroke-opacity: 0; fill: rgb(0, 0, 0); fill-opacity: 0;\"/><text class=\"annotation-text\" text-anchor=\"middle\" x=\"110.484375\" y=\"18\" style=\"font-family: 'Open Sans', verdana, arial, sans-serif; font-size: 16px; fill: rgb(42, 63, 95); fill-opacity: 1; white-space: pre;\"><tspan style=\"font-weight:bold\">Avaliadores sem twitter</tspan></text></g></g></g></g></svg>",
      "text/plain": [
       "<IPython.core.display.SVG object>"
      ]
     },
     "metadata": {},
     "output_type": "display_data"
    }
   ],
   "source": [
    "display(SVG(img_bytes_avaliadores))"
   ]
  },
  {
   "cell_type": "markdown",
   "metadata": {},
   "source": [
    "Com isso, pode-se realizar umas conclusões sobre o gráfico:\n",
    "\n",
    "1. Roger Voss é um nome que aparece bastante nos dados, pois é um dos principais jornalistas de vinho do mundo, conta com 25 anos de experiência e possui uma série de livros sobre reviews de vinho.\n",
    "2. Michel Schachner é o segundo nome que mais aparece no gráfico, responsável por várias análises de vinhos baratos;\n",
    "3. Kerin O’Keefe é uma referência na avaliação de vinhos italianos, responsável por escrever 4 livros sobre crítica de vinhos;\n",
    "4. Paul Gregutt é um crítico de vinho responsável por avaliar vinhos nas regiões do nordeste do pacífico e na Califórnia;\n",
    "5. Virginie Boone é muito focada em vinhos da Califórnia e escreve com frequência em artigos do *New York Times*\n",
    "6. Anna Lee C. Iijima aparece com predominância dos nomes que não possuem *twitter* mas é uma estudante no mestrado do *Wine Program*\n",
    "\n",
    "É possível dizer que os dados estudados tem bastante embasamento e muitos nomes impactantes para o mercado de vinhos, fora essas 6 referências mundiais é possível verificar avaliações de mais 13 avaliadores.\n",
    "\n",
    "O próximo gráfico conta com a quantidade de adegas que fazem parte dos dados. Uma coisa interessante a se notar é que a quantidade de vinhos avaliada por adega está relativamente bem distribuída, não existem picos como no gráfico dos avaliadores que não possuem *twitter* e dentro das adegas apresentadas, existem famosas adegas como exemplo a Wines & Winemakers, adega portuguesa e Georges Duboeuf que é uma distribuidora de vinhos francesa."
   ]
  },
  {
   "cell_type": "code",
   "execution_count": 21,
   "metadata": {},
   "outputs": [
    {
     "data": {
      "image/svg+xml": "<svg xmlns=\"http://www.w3.org/2000/svg\" xmlns:xlink=\"http://www.w3.org/1999/xlink\" class=\"main-svg\" width=\"800\" height=\"500\" style=\"\" viewBox=\"0 0 800 500\"><rect x=\"0\" y=\"0\" width=\"800\" height=\"500\" style=\"fill: rgb(245, 245, 220); fill-opacity: 1;\"/><defs id=\"defs-9bf5fe\"><g class=\"clips\"><clipPath id=\"clip9bf5fexyplot\" class=\"plotclip\"><rect width=\"576\" height=\"320\"/></clipPath><clipPath class=\"axesclip\" id=\"clip9bf5fex\"><rect x=\"144\" y=\"0\" width=\"576\" height=\"500\"/></clipPath><clipPath class=\"axesclip\" id=\"clip9bf5fey\"><rect x=\"0\" y=\"100\" width=\"800\" height=\"320\"/></clipPath><clipPath class=\"axesclip\" id=\"clip9bf5fexy\"><rect x=\"144\" y=\"100\" width=\"576\" height=\"320\"/></clipPath></g><g class=\"gradients\"/><g class=\"patterns\"/></defs><g class=\"bglayer\"/><g class=\"layer-below\"><g class=\"imagelayer\"/><g class=\"shapelayer\"/></g><g class=\"cartesianlayer\"><g class=\"subplot xy\"><g class=\"layer-subplot\"><g class=\"shapelayer\"/><g class=\"imagelayer\"/></g><g class=\"gridlayer\"><g class=\"x\"/><g class=\"y\"/></g><g class=\"zerolinelayer\"/><path class=\"xlines-below\"/><path class=\"ylines-below\"/><g class=\"overlines-below\"/><g class=\"xaxislayer-below\"/><g class=\"yaxislayer-below\"/><g class=\"overaxes-below\"/><g class=\"plot\" transform=\"translate(144,100)\" clip-path=\"url(#clip9bf5fexyplot)\"><g class=\"barlayer mlayer\"><g class=\"trace bars\" style=\"opacity: 1;\"><g class=\"points\"><g class=\"point\"><path d=\"M0,316.8V291.2H272.3V316.8Z\" style=\"vector-effect: non-scaling-stroke; opacity: 1; stroke-width: 0.5px; fill: rgb(192, 192, 192); fill-opacity: 1; stroke: rgb(229, 236, 246); stroke-opacity: 1;\"/><text class=\"bartext bartext-inside\" text-anchor=\"middle\" data-notex=\"1\" x=\"0\" y=\"0\" style=\"font-family: 'Open Sans', verdana, arial, sans-serif; font-size: 12px; fill: rgb(68, 68, 68); fill-opacity: 1; white-space: pre;\" transform=\"translate(257.471875,308.5)\">105</text></g><g class=\"point\"><path d=\"M0,284.8V259.2H280.08V284.8Z\" style=\"vector-effect: non-scaling-stroke; opacity: 1; stroke-width: 0.5px; fill: rgb(192, 192, 192); fill-opacity: 1; stroke: rgb(229, 236, 246); stroke-opacity: 1;\"/><text class=\"bartext bartext-inside\" text-anchor=\"middle\" data-notex=\"1\" x=\"0\" y=\"0\" style=\"font-family: 'Open Sans', verdana, arial, sans-serif; font-size: 12px; fill: rgb(68, 68, 68); fill-opacity: 1; white-space: pre;\" transform=\"translate(265.251875,276.5)\">108</text></g><g class=\"point\"><path d=\"M0,252.8V227.2H282.68V252.8Z\" style=\"vector-effect: non-scaling-stroke; opacity: 1; stroke-width: 0.5px; fill: rgb(192, 192, 192); fill-opacity: 1; stroke: rgb(229, 236, 246); stroke-opacity: 1;\"/><text class=\"bartext bartext-inside\" text-anchor=\"middle\" data-notex=\"1\" x=\"0\" y=\"0\" style=\"font-family: 'Open Sans', verdana, arial, sans-serif; font-size: 12px; fill: rgb(68, 68, 68); fill-opacity: 1; white-space: pre;\" transform=\"translate(267.851875,244.5)\">109</text></g><g class=\"point\"><path d=\"M0,220.8V195.2H378.63V220.8Z\" style=\"vector-effect: non-scaling-stroke; opacity: 1; stroke-width: 0.5px; fill: rgb(192, 192, 192); fill-opacity: 1; stroke: rgb(229, 236, 246); stroke-opacity: 1;\"/><text class=\"bartext bartext-inside\" text-anchor=\"middle\" data-notex=\"1\" x=\"0\" y=\"0\" style=\"font-family: 'Open Sans', verdana, arial, sans-serif; font-size: 12px; fill: rgb(68, 68, 68); fill-opacity: 1; white-space: pre;\" transform=\"translate(363.801875,212.5)\">146</text></g><g class=\"point\"><path d=\"M0,188.8V163.2H399.38V188.8Z\" style=\"vector-effect: non-scaling-stroke; opacity: 1; stroke-width: 0.5px; fill: rgb(192, 192, 192); fill-opacity: 1; stroke: rgb(229, 236, 246); stroke-opacity: 1;\"/><text class=\"bartext bartext-inside\" text-anchor=\"middle\" data-notex=\"1\" x=\"0\" y=\"0\" style=\"font-family: 'Open Sans', verdana, arial, sans-serif; font-size: 12px; fill: rgb(68, 68, 68); fill-opacity: 1; white-space: pre;\" transform=\"translate(384.551875,180.5)\">154</text></g><g class=\"point\"><path d=\"M0,156.8V131.2H440.87V156.8Z\" style=\"vector-effect: non-scaling-stroke; opacity: 1; stroke-width: 0.5px; fill: rgb(0, 0, 255); fill-opacity: 1; stroke: rgb(229, 236, 246); stroke-opacity: 1;\"/><text class=\"bartext bartext-inside\" text-anchor=\"middle\" data-notex=\"1\" x=\"0\" y=\"0\" style=\"font-family: 'Open Sans', verdana, arial, sans-serif; font-size: 12px; fill: rgb(255, 255, 255); fill-opacity: 1; white-space: pre;\" transform=\"translate(426.041875,148.5)\">170</text></g><g class=\"point\"><path d=\"M0,124.8V99.2H461.62V124.8Z\" style=\"vector-effect: non-scaling-stroke; opacity: 1; stroke-width: 0.5px; fill: rgb(0, 0, 255); fill-opacity: 1; stroke: rgb(229, 236, 246); stroke-opacity: 1;\"/><text class=\"bartext bartext-inside\" text-anchor=\"middle\" data-notex=\"1\" x=\"0\" y=\"0\" style=\"font-family: 'Open Sans', verdana, arial, sans-serif; font-size: 12px; fill: rgb(255, 255, 255); fill-opacity: 1; white-space: pre;\" transform=\"translate(446.791875,116.5)\">178</text></g><g class=\"point\"><path d=\"M0,92.8V67.2H482.37V92.8Z\" style=\"vector-effect: non-scaling-stroke; opacity: 1; stroke-width: 0.5px; fill: rgb(0, 0, 255); fill-opacity: 1; stroke: rgb(229, 236, 246); stroke-opacity: 1;\"/><text class=\"bartext bartext-inside\" text-anchor=\"middle\" data-notex=\"1\" x=\"0\" y=\"0\" style=\"font-family: 'Open Sans', verdana, arial, sans-serif; font-size: 12px; fill: rgb(255, 255, 255); fill-opacity: 1; white-space: pre;\" transform=\"translate(467.541875,84.5)\">186</text></g><g class=\"point\"><path d=\"M0,60.8V35.2H518.67V60.8Z\" style=\"vector-effect: non-scaling-stroke; opacity: 1; stroke-width: 0.5px; fill: rgb(0, 0, 255); fill-opacity: 1; stroke: rgb(229, 236, 246); stroke-opacity: 1;\"/><text class=\"bartext bartext-inside\" text-anchor=\"middle\" data-notex=\"1\" x=\"0\" y=\"0\" style=\"font-family: 'Open Sans', verdana, arial, sans-serif; font-size: 12px; fill: rgb(255, 255, 255); fill-opacity: 1; white-space: pre;\" transform=\"translate(503.84187499999996,52.5)\">200</text></g><g class=\"point\"><path d=\"M0,28.8V3.2H547.2V28.8Z\" style=\"vector-effect: non-scaling-stroke; opacity: 1; stroke-width: 0.5px; fill: rgb(0, 0, 255); fill-opacity: 1; stroke: rgb(229, 236, 246); stroke-opacity: 1;\"/><text class=\"bartext bartext-inside\" text-anchor=\"middle\" data-notex=\"1\" x=\"0\" y=\"0\" style=\"font-family: 'Open Sans', verdana, arial, sans-serif; font-size: 12px; fill: rgb(255, 255, 255); fill-opacity: 1; white-space: pre;\" transform=\"translate(532.746875,20.5)\">211</text></g></g></g></g></g><g class=\"overplot\"/><path class=\"xlines-above crisp\" d=\"M0,0\" style=\"fill: none;\"/><path class=\"ylines-above crisp\" d=\"M0,0\" style=\"fill: none;\"/><g class=\"overlines-above\"/><g class=\"xaxislayer-above\"/><g class=\"yaxislayer-above\"><g class=\"ytick\"><text text-anchor=\"end\" x=\"143\" y=\"4.199999999999999\" transform=\"translate(0,404)\" style=\"font-family: 'Open Sans', verdana, arial, sans-serif; font-size: 12px; fill: rgb(42, 63, 95); fill-opacity: 1; white-space: pre; opacity: 1;\">Santa Ema</text></g><g class=\"ytick\"><text text-anchor=\"end\" x=\"143\" y=\"4.199999999999999\" transform=\"translate(0,372)\" style=\"font-family: 'Open Sans', verdana, arial, sans-serif; font-size: 12px; fill: rgb(42, 63, 95); fill-opacity: 1; white-space: pre; opacity: 1;\">Trapiche</text></g><g class=\"ytick\"><text text-anchor=\"end\" x=\"143\" y=\"4.199999999999999\" transform=\"translate(0,340)\" style=\"font-family: 'Open Sans', verdana, arial, sans-serif; font-size: 12px; fill: rgb(42, 63, 95); fill-opacity: 1; white-space: pre; opacity: 1;\">Albert Bichot</text></g><g class=\"ytick\"><text text-anchor=\"end\" x=\"143\" y=\"4.199999999999999\" transform=\"translate(0,308)\" style=\"font-family: 'Open Sans', verdana, arial, sans-serif; font-size: 12px; fill: rgb(42, 63, 95); fill-opacity: 1; white-space: pre; opacity: 1;\">Columbia Crest</text></g><g class=\"ytick\"><text text-anchor=\"end\" x=\"143\" y=\"4.199999999999999\" transform=\"translate(0,276)\" style=\"font-family: 'Open Sans', verdana, arial, sans-serif; font-size: 12px; fill: rgb(42, 63, 95); fill-opacity: 1; white-space: pre; opacity: 1;\">Concha y Toro</text></g><g class=\"ytick\"><text text-anchor=\"end\" x=\"143\" y=\"4.199999999999999\" transform=\"translate(0,244)\" style=\"font-family: 'Open Sans', verdana, arial, sans-serif; font-size: 12px; fill: rgb(42, 63, 95); fill-opacity: 1; white-space: pre; opacity: 1;\">Chateau Ste. Michelle</text></g><g class=\"ytick\"><text text-anchor=\"end\" x=\"143\" y=\"4.199999999999999\" transform=\"translate(0,212)\" style=\"font-family: 'Open Sans', verdana, arial, sans-serif; font-size: 12px; fill: rgb(42, 63, 95); fill-opacity: 1; white-space: pre; opacity: 1;\">Louis Latour</text></g><g class=\"ytick\"><text text-anchor=\"end\" x=\"143\" y=\"4.199999999999999\" transform=\"translate(0,180)\" style=\"font-family: 'Open Sans', verdana, arial, sans-serif; font-size: 12px; fill: rgb(42, 63, 95); fill-opacity: 1; white-space: pre; opacity: 1;\">Georges Duboeuf</text></g><g class=\"ytick\"><text text-anchor=\"end\" x=\"143\" y=\"4.199999999999999\" transform=\"translate(0,148)\" style=\"font-family: 'Open Sans', verdana, arial, sans-serif; font-size: 12px; fill: rgb(42, 63, 95); fill-opacity: 1; white-space: pre; opacity: 1;\">DFJ Vinhos</text></g><g class=\"ytick\"><text text-anchor=\"end\" x=\"143\" y=\"4.199999999999999\" transform=\"translate(0,116)\" style=\"font-family: 'Open Sans', verdana, arial, sans-serif; font-size: 12px; fill: rgb(42, 63, 95); fill-opacity: 1; white-space: pre; opacity: 1;\">Wines &amp; Winemakers</text></g></g><g class=\"overaxes-above\"/></g></g><g class=\"polarlayer\"/><g class=\"smithlayer\"/><g class=\"ternarylayer\"/><g class=\"geolayer\"/><g class=\"funnelarealayer\"/><g class=\"pielayer\"/><g class=\"iciclelayer\"/><g class=\"treemaplayer\"/><g class=\"sunburstlayer\"/><g class=\"glimages\"/><defs id=\"topdefs-9bf5fe\"><g class=\"clips\"/></defs><g class=\"layer-above\"><g class=\"imagelayer\"/><g class=\"shapelayer\"/></g><g class=\"infolayer\"><g class=\"g-gtitle\"><text class=\"gtitle\" x=\"40\" y=\"50\" text-anchor=\"start\" dy=\"0em\" style=\"font-family: Arial, monospace; font-size: 24px; fill: rgb(0, 0, 0); opacity: 1; font-weight: normal; white-space: pre;\"><tspan style=\"font-weight:bold\">Número total de vinhos avaliados por adega</tspan></text></g><g class=\"g-ytitle\"/></g></svg>",
      "text/plain": [
       "<IPython.core.display.SVG object>"
      ]
     },
     "metadata": {},
     "output_type": "display_data"
    }
   ],
   "source": [
    "display(SVG(img_bytes_adegas))"
   ]
  },
  {
   "cell_type": "markdown",
   "metadata": {},
   "source": [
    "Outra coisa interessante a ser notada é o tipo de uvas dos vinhos na base de dados, com isso tem-se:\n",
    "\n",
    "1. Pinot Noir - Vinhos produzidos com uvas roxas, que fazem parte de uma quantidade abundante de vinhos;\n",
    "2. Chardonnay - São vinhos produzidos a partir da \"uva-branca\", bem comum em vinhos tintos;\n",
    "3. Red Blend - Vinhos desenvolvidos através de uma mistura de várias uvas;\n",
    "\n",
    "Fora esses três tipos de vinhos, é possível perceber que existe uma grande variedade de vinhos nos dados."
   ]
  },
  {
   "cell_type": "code",
   "execution_count": 22,
   "metadata": {},
   "outputs": [
    {
     "data": {
      "image/svg+xml": "<svg xmlns=\"http://www.w3.org/2000/svg\" xmlns:xlink=\"http://www.w3.org/1999/xlink\" class=\"main-svg\" width=\"1200\" height=\"500\" style=\"\" viewBox=\"0 0 1200 500\"><rect x=\"0\" y=\"0\" width=\"1200\" height=\"500\" style=\"fill: rgb(245, 245, 220); fill-opacity: 1;\"/><defs id=\"defs-2aae9a\"><g class=\"clips\"><clipPath id=\"clip2aae9axyplot\" class=\"plotclip\"><rect width=\"951\" height=\"320\"/></clipPath><clipPath class=\"axesclip\" id=\"clip2aae9ax\"><rect x=\"169\" y=\"0\" width=\"951\" height=\"500\"/></clipPath><clipPath class=\"axesclip\" id=\"clip2aae9ay\"><rect x=\"0\" y=\"100\" width=\"1200\" height=\"320\"/></clipPath><clipPath class=\"axesclip\" id=\"clip2aae9axy\"><rect x=\"169\" y=\"100\" width=\"951\" height=\"320\"/></clipPath></g><g class=\"gradients\"/><g class=\"patterns\"/></defs><g class=\"bglayer\"/><g class=\"layer-below\"><g class=\"imagelayer\"/><g class=\"shapelayer\"/></g><g class=\"cartesianlayer\"><g class=\"subplot xy\"><g class=\"layer-subplot\"><g class=\"shapelayer\"/><g class=\"imagelayer\"/></g><g class=\"gridlayer\"><g class=\"x\"/><g class=\"y\"/></g><g class=\"zerolinelayer\"/><path class=\"xlines-below\"/><path class=\"ylines-below\"/><g class=\"overlines-below\"/><g class=\"xaxislayer-below\"/><g class=\"yaxislayer-below\"/><g class=\"overaxes-below\"/><g class=\"plot\" transform=\"translate(169,100)\" clip-path=\"url(#clip2aae9axyplot)\"><g class=\"barlayer mlayer\"><g class=\"trace bars\" style=\"opacity: 1;\"><g class=\"points\"><g class=\"point\"><path d=\"M0,316.8V291.2H227.53V316.8Z\" style=\"vector-effect: non-scaling-stroke; opacity: 1; stroke-width: 0.5px; fill: rgb(192, 192, 192); fill-opacity: 1; stroke: rgb(229, 236, 246); stroke-opacity: 1;\"/><text class=\"bartext bartext-inside\" text-anchor=\"middle\" data-notex=\"1\" x=\"0\" y=\"0\" style=\"font-family: 'Open Sans', verdana, arial, sans-serif; font-size: 12px; fill: rgb(68, 68, 68); fill-opacity: 1; white-space: pre;\" transform=\"translate(208.889375,308.5)\">2382</text></g><g class=\"point\"><path d=\"M0,284.8V259.2H274.82V284.8Z\" style=\"vector-effect: non-scaling-stroke; opacity: 1; stroke-width: 0.5px; fill: rgb(192, 192, 192); fill-opacity: 1; stroke: rgb(229, 236, 246); stroke-opacity: 1;\"/><text class=\"bartext bartext-inside\" text-anchor=\"middle\" data-notex=\"1\" x=\"0\" y=\"0\" style=\"font-family: 'Open Sans', verdana, arial, sans-serif; font-size: 12px; fill: rgb(68, 68, 68); fill-opacity: 1; white-space: pre;\" transform=\"translate(256.179375,276.5)\">2877</text></g><g class=\"point\"><path d=\"M0,252.8V227.2H284.94V252.8Z\" style=\"vector-effect: non-scaling-stroke; opacity: 1; stroke-width: 0.5px; fill: rgb(192, 192, 192); fill-opacity: 1; stroke: rgb(229, 236, 246); stroke-opacity: 1;\"/><text class=\"bartext bartext-inside\" text-anchor=\"middle\" data-notex=\"1\" x=\"0\" y=\"0\" style=\"font-family: 'Open Sans', verdana, arial, sans-serif; font-size: 12px; fill: rgb(68, 68, 68); fill-opacity: 1; white-space: pre;\" transform=\"translate(266.674375,244.5)\">2983</text></g><g class=\"point\"><path d=\"M0,220.8V195.2H351.14V220.8Z\" style=\"vector-effect: non-scaling-stroke; opacity: 1; stroke-width: 0.5px; fill: rgb(192, 192, 192); fill-opacity: 1; stroke: rgb(229, 236, 246); stroke-opacity: 1;\"/><text class=\"bartext bartext-inside\" text-anchor=\"middle\" data-notex=\"1\" x=\"0\" y=\"0\" style=\"font-family: 'Open Sans', verdana, arial, sans-serif; font-size: 12px; fill: rgb(68, 68, 68); fill-opacity: 1; white-space: pre;\" transform=\"translate(332.499375,212.5)\">3676</text></g><g class=\"point\"><path d=\"M0,188.8V163.2H432.53V188.8Z\" style=\"vector-effect: non-scaling-stroke; opacity: 1; stroke-width: 0.5px; fill: rgb(192, 192, 192); fill-opacity: 1; stroke: rgb(229, 236, 246); stroke-opacity: 1;\"/><text class=\"bartext bartext-inside\" text-anchor=\"middle\" data-notex=\"1\" x=\"0\" y=\"0\" style=\"font-family: 'Open Sans', verdana, arial, sans-serif; font-size: 12px; fill: rgb(68, 68, 68); fill-opacity: 1; white-space: pre;\" transform=\"translate(413.889375,180.5)\">4528</text></g><g class=\"point\"><path d=\"M0,156.8V131.2H552.21V156.8Z\" style=\"vector-effect: non-scaling-stroke; opacity: 1; stroke-width: 0.5px; fill: rgb(192, 192, 192); fill-opacity: 1; stroke: rgb(229, 236, 246); stroke-opacity: 1;\"/><text class=\"bartext bartext-inside\" text-anchor=\"middle\" data-notex=\"1\" x=\"0\" y=\"0\" style=\"font-family: 'Open Sans', verdana, arial, sans-serif; font-size: 12px; fill: rgb(68, 68, 68); fill-opacity: 1; white-space: pre;\" transform=\"translate(533.944375,148.5)\">5781</text></g><g class=\"point\"><path d=\"M0,124.8V99.2H569.79V124.8Z\" style=\"vector-effect: non-scaling-stroke; opacity: 1; stroke-width: 0.5px; fill: rgb(192, 192, 192); fill-opacity: 1; stroke: rgb(229, 236, 246); stroke-opacity: 1;\"/><text class=\"bartext bartext-inside\" text-anchor=\"middle\" data-notex=\"1\" x=\"0\" y=\"0\" style=\"font-family: 'Open Sans', verdana, arial, sans-serif; font-size: 12px; fill: rgb(68, 68, 68); fill-opacity: 1; white-space: pre;\" transform=\"translate(551.149375,116.5)\">5965</text></g><g class=\"point\"><path d=\"M0,92.8V67.2H620.42V92.8Z\" style=\"vector-effect: non-scaling-stroke; opacity: 1; stroke-width: 0.5px; fill: rgb(0, 0, 255); fill-opacity: 1; stroke: rgb(229, 236, 246); stroke-opacity: 1;\"/><text class=\"bartext bartext-inside\" text-anchor=\"middle\" data-notex=\"1\" x=\"0\" y=\"0\" style=\"font-family: 'Open Sans', verdana, arial, sans-serif; font-size: 12px; fill: rgb(255, 255, 255); fill-opacity: 1; white-space: pre;\" transform=\"translate(601.779375,84.5)\">6495</text></g><g class=\"point\"><path d=\"M0,60.8V35.2H783V60.8Z\" style=\"vector-effect: non-scaling-stroke; opacity: 1; stroke-width: 0.5px; fill: rgb(0, 0, 255); fill-opacity: 1; stroke: rgb(229, 236, 246); stroke-opacity: 1;\"/><text class=\"bartext bartext-inside\" text-anchor=\"middle\" data-notex=\"1\" x=\"0\" y=\"0\" style=\"font-family: 'Open Sans', verdana, arial, sans-serif; font-size: 12px; fill: rgb(255, 255, 255); fill-opacity: 1; white-space: pre;\" transform=\"translate(764.359375,52.5)\">8197</text></g><g class=\"point\"><path d=\"M0,28.8V3.2H903.45V28.8Z\" style=\"vector-effect: non-scaling-stroke; opacity: 1; stroke-width: 0.5px; fill: rgb(0, 0, 255); fill-opacity: 1; stroke: rgb(229, 236, 246); stroke-opacity: 1;\"/><text class=\"bartext bartext-inside\" text-anchor=\"middle\" data-notex=\"1\" x=\"0\" y=\"0\" style=\"font-family: 'Open Sans', verdana, arial, sans-serif; font-size: 12px; fill: rgb(255, 255, 255); fill-opacity: 1; white-space: pre;\" transform=\"translate(884.809375,20.5)\">9458</text></g></g></g></g></g><g class=\"overplot\"/><path class=\"xlines-above crisp\" d=\"M0,0\" style=\"fill: none;\"/><path class=\"ylines-above crisp\" d=\"M0,0\" style=\"fill: none;\"/><g class=\"overlines-above\"/><g class=\"xaxislayer-above\"/><g class=\"yaxislayer-above\"><g class=\"ytick\"><text text-anchor=\"end\" x=\"168\" y=\"4.199999999999999\" transform=\"translate(0,404)\" style=\"font-family: 'Open Sans', verdana, arial, sans-serif; font-size: 12px; fill: rgb(42, 63, 95); fill-opacity: 1; white-space: pre; opacity: 1;\">Malbec</text></g><g class=\"ytick\"><text text-anchor=\"end\" x=\"168\" y=\"4.199999999999999\" transform=\"translate(0,372)\" style=\"font-family: 'Open Sans', verdana, arial, sans-serif; font-size: 12px; fill: rgb(42, 63, 95); fill-opacity: 1; white-space: pre; opacity: 1;\">Syrah</text></g><g class=\"ytick\"><text text-anchor=\"end\" x=\"168\" y=\"4.199999999999999\" transform=\"translate(0,340)\" style=\"font-family: 'Open Sans', verdana, arial, sans-serif; font-size: 12px; fill: rgb(42, 63, 95); fill-opacity: 1; white-space: pre; opacity: 1;\">Rosé</text></g><g class=\"ytick\"><text text-anchor=\"end\" x=\"168\" y=\"4.199999999999999\" transform=\"translate(0,308)\" style=\"font-family: 'Open Sans', verdana, arial, sans-serif; font-size: 12px; fill: rgb(42, 63, 95); fill-opacity: 1; white-space: pre; opacity: 1;\">Sauvignon Blanc</text></g><g class=\"ytick\"><text text-anchor=\"end\" x=\"168\" y=\"4.199999999999999\" transform=\"translate(0,276)\" style=\"font-family: 'Open Sans', verdana, arial, sans-serif; font-size: 12px; fill: rgb(42, 63, 95); fill-opacity: 1; white-space: pre; opacity: 1;\">Riesling</text></g><g class=\"ytick\"><text text-anchor=\"end\" x=\"168\" y=\"4.199999999999999\" transform=\"translate(0,244)\" style=\"font-family: 'Open Sans', verdana, arial, sans-serif; font-size: 12px; fill: rgb(42, 63, 95); fill-opacity: 1; white-space: pre; opacity: 1;\">Cabernet Sauvignon</text></g><g class=\"ytick\"><text text-anchor=\"end\" x=\"168\" y=\"4.199999999999999\" transform=\"translate(0,212)\" style=\"font-family: 'Open Sans', verdana, arial, sans-serif; font-size: 12px; fill: rgb(42, 63, 95); fill-opacity: 1; white-space: pre; opacity: 1;\">Bordeaux-style Red Blend</text></g><g class=\"ytick\"><text text-anchor=\"end\" x=\"168\" y=\"4.199999999999999\" transform=\"translate(0,180)\" style=\"font-family: 'Open Sans', verdana, arial, sans-serif; font-size: 12px; fill: rgb(42, 63, 95); fill-opacity: 1; white-space: pre; opacity: 1;\">Red Blend</text></g><g class=\"ytick\"><text text-anchor=\"end\" x=\"168\" y=\"4.199999999999999\" transform=\"translate(0,148)\" style=\"font-family: 'Open Sans', verdana, arial, sans-serif; font-size: 12px; fill: rgb(42, 63, 95); fill-opacity: 1; white-space: pre; opacity: 1;\">Chardonnay</text></g><g class=\"ytick\"><text text-anchor=\"end\" x=\"168\" y=\"4.199999999999999\" transform=\"translate(0,116)\" style=\"font-family: 'Open Sans', verdana, arial, sans-serif; font-size: 12px; fill: rgb(42, 63, 95); fill-opacity: 1; white-space: pre; opacity: 1;\">Pinot Noir</text></g></g><g class=\"overaxes-above\"/></g></g><g class=\"polarlayer\"/><g class=\"smithlayer\"/><g class=\"ternarylayer\"/><g class=\"geolayer\"/><g class=\"funnelarealayer\"/><g class=\"pielayer\"/><g class=\"iciclelayer\"/><g class=\"treemaplayer\"/><g class=\"sunburstlayer\"/><g class=\"glimages\"/><defs id=\"topdefs-2aae9a\"><g class=\"clips\"/></defs><g class=\"layer-above\"><g class=\"imagelayer\"/><g class=\"shapelayer\"/></g><g class=\"infolayer\"><g class=\"g-gtitle\"><text class=\"gtitle\" x=\"60\" y=\"50\" text-anchor=\"start\" dy=\"0em\" style=\"font-family: Arial, monospace; font-size: 24px; fill: rgb(0, 0, 0); opacity: 1; font-weight: normal; white-space: pre;\"><tspan style=\"font-weight:bold\">Tipos de uvas utilizadas nos vinhos mais comuns</tspan></text></g><g class=\"g-ytitle\"/></g></svg>",
      "text/plain": [
       "<IPython.core.display.SVG object>"
      ]
     },
     "metadata": {},
     "output_type": "display_data"
    }
   ],
   "source": [
    "display(SVG(img_bytes_tipos_vinho))"
   ]
  },
  {
   "cell_type": "markdown",
   "metadata": {},
   "source": [
    "Os dados também contam com vinhos das mais diferentes faixas de preço, como pode-se notar, os vinhos mais caros tem, em sua maioria, notas muito elevadas e avaliadas, em sua maioria, pelo avaliador Roger Voss. Existe uma exceção nos vinhos, dentro dos 10 vinhos mais caros, o vinho mais caro possui uma nota bem inferior à média dos vinhos mais caros, vale destacar que existem vinhos com a nota máxima nos dados que foram estudos."
   ]
  },
  {
   "cell_type": "code",
   "execution_count": 23,
   "metadata": {},
   "outputs": [
    {
     "name": "stdout",
     "output_type": "stream",
     "text": [
      "Vinhos mais caros: \n",
      "\n",
      "O vinho \u001b[1m\u001b[92mChâteau les Ormes Sorbet 2013  Médoc\u001b[0m da adega \u001b[1mChâteau les Ormes Sorbet\u001b[0m foi avaliado por \u001b[1m\u001b[93mRoger Voss\u001b[0m, possui nota de \u001b[1m88\u001b[0m e preço de \u001b[1m3300.0\u001b[0m\n",
      "O vinho \u001b[1m\u001b[92mDomaine du Comte Liger-Belair 2010  La Romanée\u001b[0m da adega \u001b[1mDomaine du Comte Liger-Belair\u001b[0m foi avaliado por \u001b[1m\u001b[93mRoger Voss\u001b[0m, possui nota de \u001b[1m96\u001b[0m e preço de \u001b[1m2500.0\u001b[0m\n",
      "O vinho \u001b[1m\u001b[92mChâteau Pétrus 2014  Pomerol\u001b[0m da adega \u001b[1mChâteau Pétrus\u001b[0m foi avaliado por \u001b[1m\u001b[93mRoger Voss\u001b[0m, possui nota de \u001b[1m96\u001b[0m e preço de \u001b[1m2500.0\u001b[0m\n",
      "O vinho \u001b[1m\u001b[92mBlair 2013 Roger Rose Vineyard Chardonnay (Arroyo Seco)\u001b[0m da adega \u001b[1mBlair\u001b[0m foi avaliado por \u001b[1m\u001b[93mMatt Kettmann\u001b[0m, possui nota de \u001b[1m91\u001b[0m e preço de \u001b[1m2013.0\u001b[0m\n",
      "O vinho \u001b[1m\u001b[92mChâteau Pétrus 2011  Pomerol\u001b[0m da adega \u001b[1mChâteau Pétrus\u001b[0m foi avaliado por \u001b[1m\u001b[93mRoger Voss\u001b[0m, possui nota de \u001b[1m97\u001b[0m e preço de \u001b[1m2000.0\u001b[0m\n",
      "O vinho \u001b[1m\u001b[92mDomaine du Comte Liger-Belair 2005  La Romanée\u001b[0m da adega \u001b[1mDomaine du Comte Liger-Belair\u001b[0m foi avaliado por \u001b[1m\u001b[93mRoger Voss\u001b[0m, possui nota de \u001b[1m96\u001b[0m e preço de \u001b[1m2000.0\u001b[0m\n",
      "O vinho \u001b[1m\u001b[92mChâteau Margaux 2009  Margaux\u001b[0m da adega \u001b[1mChâteau Margaux\u001b[0m foi avaliado por \u001b[1m\u001b[93mRoger Voss\u001b[0m, possui nota de \u001b[1m98\u001b[0m e preço de \u001b[1m1900.0\u001b[0m\n",
      "O vinho \u001b[1m\u001b[92mChâteau Cheval Blanc 2010  Saint-Émilion\u001b[0m da adega \u001b[1mChâteau Cheval Blanc\u001b[0m foi avaliado por \u001b[1m\u001b[93mRoger Voss\u001b[0m, possui nota de \u001b[1m100\u001b[0m e preço de \u001b[1m1500.0\u001b[0m\n",
      "O vinho \u001b[1m\u001b[92mChâteau Lafite Rothschild 2010  Pauillac\u001b[0m da adega \u001b[1mChâteau Lafite Rothschild\u001b[0m foi avaliado por \u001b[1m\u001b[93mRoger Voss\u001b[0m, possui nota de \u001b[1m100\u001b[0m e preço de \u001b[1m1500.0\u001b[0m\n",
      "O vinho \u001b[1m\u001b[92mChâteau Mouton Rothschild 2009  Pauillac\u001b[0m da adega \u001b[1mChâteau Mouton Rothschild\u001b[0m foi avaliado por \u001b[1m\u001b[93mRoger Voss\u001b[0m, possui nota de \u001b[1m96\u001b[0m e preço de \u001b[1m1300.0\u001b[0m\n",
      "\n",
      "\n",
      "\tMédia de notas dos vinhos mais caros: \u001b[1m95.8\u001b[0m\n",
      "\tAvaliador mais comum: \u001b[1mRoger Voss\u001b[0m\n",
      "\tMédia de preços dos vinhos mais caros: \u001b[1m2051.3\u001b[0m\n"
     ]
    }
   ],
   "source": [
    "print(f'Vinhos mais caros: \\n')\n",
    "for i in range(0,10):\n",
    "    print(f'O vinho {bcolors.BOLD}{bcolors.OKGREEN}{(vinhos_mais_caros.title.iloc[i])}{bcolors.ENDC} da adega {bcolors.BOLD}{vinhos_mais_caros.winery.iloc[i]}{bcolors.ENDC} foi avaliado por {bcolors.BOLD}{bcolors.OKYELLOW}{vinhos_mais_caros.taster_name.iloc[i]}{bcolors.ENDC}, possui nota de {bcolors.BOLD}{vinhos_mais_caros.points.iloc[i]}{bcolors.ENDC} e preço de {bcolors.BOLD}{vinhos_mais_caros.price.iloc[i]}{bcolors.ENDC}')\n",
    "print('\\n')\n",
    "print(f'\\tMédia de notas dos vinhos mais caros: {bcolors.BOLD}{vinhos_mais_caros.points.mean()}{bcolors.ENDC}')\n",
    "print(f'\\tAvaliador mais comum: {bcolors.BOLD}{vinhos_mais_caros.taster_name.value_counts().index[0]}{bcolors.ENDC}')\n",
    "print(f'\\tMédia de preços dos vinhos mais caros: {bcolors.BOLD}{vinhos_mais_caros.price.mean()}{bcolors.ENDC}')"
   ]
  },
  {
   "cell_type": "markdown",
   "metadata": {},
   "source": [
    "Já os vinhos que são mais baratos tem uma gama maior de avaliadores, porém o nome mais predominante foi o de Michael Schachner e as notas também são baixas, considerando que a menor nota é 80, esperado por serem vinhos mais baratos, espera-se que elas possuam uma qualidade inferior aos vinhos mais caros."
   ]
  },
  {
   "cell_type": "code",
   "execution_count": 24,
   "metadata": {},
   "outputs": [
    {
     "name": "stdout",
     "output_type": "stream",
     "text": [
      "Vinhos mais baratos: \n",
      "\n",
      "O vinho \u001b[1m\u001b[92mDancing Coyote 2015 White (Clarksburg)\u001b[0m da adega \u001b[1mDancing Coyote\u001b[0m foi avaliado por \u001b[1m\u001b[93mJim Gordon\u001b[0m, possui nota de \u001b[1m85\u001b[0m e preço de \u001b[1m4.0\u001b[0m\n",
      "O vinho \u001b[1m\u001b[92mBroke Ass 2009 Red Malbec-Syrah (Mendoza)\u001b[0m da adega \u001b[1mBroke Ass\u001b[0m foi avaliado por \u001b[1m\u001b[93mMichael Schachner\u001b[0m, possui nota de \u001b[1m84\u001b[0m e preço de \u001b[1m4.0\u001b[0m\n",
      "O vinho \u001b[1m\u001b[92mCramele Recas 2011 UnWineD Pinot Grigio (Viile Timisului)\u001b[0m da adega \u001b[1mCramele Recas\u001b[0m foi avaliado por \u001b[1m\u001b[93mAnna Lee C. Iijima\u001b[0m, possui nota de \u001b[1m86\u001b[0m e preço de \u001b[1m4.0\u001b[0m\n",
      "O vinho \u001b[1m\u001b[92mPam's Cuties NV Unoaked Chardonnay (California)\u001b[0m da adega \u001b[1mPam's Cuties\u001b[0m foi avaliado por \u001b[1m\u001b[93mJim Gordon\u001b[0m, possui nota de \u001b[1m83\u001b[0m e preço de \u001b[1m4.0\u001b[0m\n",
      "O vinho \u001b[1m\u001b[92mFelix Solis 2013 Flirty Bird Syrah (Vino de la Tierra de Castilla)\u001b[0m da adega \u001b[1mFelix Solis\u001b[0m foi avaliado por \u001b[1m\u001b[93mMichael Schachner\u001b[0m, possui nota de \u001b[1m85\u001b[0m e preço de \u001b[1m4.0\u001b[0m\n",
      "O vinho \u001b[1m\u001b[92mFelix Solis 2012 Flirty Bird White (Vino de la Tierra de Castilla)\u001b[0m da adega \u001b[1mFelix Solis\u001b[0m foi avaliado por \u001b[1m\u001b[93mMichael Schachner\u001b[0m, possui nota de \u001b[1m82\u001b[0m e preço de \u001b[1m4.0\u001b[0m\n",
      "O vinho \u001b[1m\u001b[92mTerrenal 2010 Cabernet Sauvignon (Yecla)\u001b[0m da adega \u001b[1mTerrenal\u001b[0m foi avaliado por \u001b[1m\u001b[93mMichael Schachner\u001b[0m, possui nota de \u001b[1m84\u001b[0m e preço de \u001b[1m4.0\u001b[0m\n",
      "O vinho \u001b[1m\u001b[92mTerrenal 2010 Estate Bottled Tempranillo (Yecla)\u001b[0m da adega \u001b[1mTerrenal\u001b[0m foi avaliado por \u001b[1m\u001b[93mMichael Schachner\u001b[0m, possui nota de \u001b[1m84\u001b[0m e preço de \u001b[1m4.0\u001b[0m\n",
      "O vinho \u001b[1m\u001b[92mTerrenal 2012 Estate Bottled Tempranillo (Yecla)\u001b[0m da adega \u001b[1mTerrenal\u001b[0m foi avaliado por \u001b[1m\u001b[93mMichael Schachner\u001b[0m, possui nota de \u001b[1m83\u001b[0m e preço de \u001b[1m5.0\u001b[0m\n",
      "O vinho \u001b[1m\u001b[92mTerrenal 2013 Estate Bottled Malbec (Mendoza)\u001b[0m da adega \u001b[1mTerrenal\u001b[0m foi avaliado por \u001b[1m\u001b[93mMichael Schachner\u001b[0m, possui nota de \u001b[1m80\u001b[0m e preço de \u001b[1m5.0\u001b[0m\n",
      "\n",
      "\n",
      "\tMédia de notas dos vinhos mais baratos: \u001b[1m83.6\u001b[0m\n",
      "\tAvaliador mais comum: \u001b[1mMichael Schachner\u001b[0m\n",
      "\tMédia de preços dos vinhos mais baratos: \u001b[1m4.2\u001b[0m\n"
     ]
    }
   ],
   "source": [
    "print(f'Vinhos mais baratos: \\n')\n",
    "for i in range(0,10):\n",
    "    print(f'O vinho {bcolors.BOLD}{bcolors.OKGREEN}{(vinhos_mais_baratos.title.iloc[i])}{bcolors.ENDC} da adega {bcolors.BOLD}{vinhos_mais_baratos.winery.iloc[i]}{bcolors.ENDC} foi avaliado por {bcolors.BOLD}{bcolors.OKYELLOW}{vinhos_mais_baratos.taster_name.iloc[i]}{bcolors.ENDC}, possui nota de {bcolors.BOLD}{vinhos_mais_baratos.points.iloc[i]}{bcolors.ENDC} e preço de {bcolors.BOLD}{vinhos_mais_baratos.price.iloc[i]}{bcolors.ENDC}')\n",
    "print('\\n')\n",
    "print(f'\\tMédia de notas dos vinhos mais baratos: {bcolors.BOLD}{vinhos_mais_baratos.points.mean()}{bcolors.ENDC}')\n",
    "print(f'\\tAvaliador mais comum: {bcolors.BOLD}{vinhos_mais_baratos.taster_name.value_counts().index[0]}{bcolors.ENDC}')\n",
    "print(f'\\tMédia de preços dos vinhos mais baratos: {bcolors.BOLD}{vinhos_mais_baratos.price.mean()}{bcolors.ENDC}')"
   ]
  },
  {
   "cell_type": "markdown",
   "metadata": {},
   "source": [
    "- Porque as soluções da “Wine for U” são as melhores?\n",
    "\n",
    "Fora a quantidade grande de dados que estão nos bancos de dados, o projeto contou com a montagem do sistema de recomendação seguindo dois principios básicos:\n",
    "\n",
    "1. O título de um vinho geralmente traz muitas informações sobre sua origem, como cidade de origem, tipo de uva utilizada e um nome que caracteriza vários vinhos;\n",
    "2. A descrição traz características únicas que o vinho pode oferecer aos consumidores, como aroma, sabor e dentre outros.\n",
    "\n",
    "Através desses dois princípios foi possível realizar um sistema de recomendação em que dado o título do vinho, acontece uma busca na base de dados buscando a similaridade entre os títulos, caso seja preenchido uma descrição do vinho o processo será idêntico caso seja dado apenas o título do vinho.\n",
    "\n",
    "- Possíveis aperfeiçoamentos futuros\n",
    "\n",
    "1. Refinamento da função de recomendação, considerando o avaliador, nota e preço dos vinhos.\n",
    "2. Utilização de outras bibliotecas para aumentar a desempenho do sistema de recomendação.\n",
    "3. Coletar mais dados para aumentar a interpretação do sistema de recomendação.\n"
   ]
  }
 ],
 "metadata": {
  "kernelspec": {
   "display_name": "Python 3.9.7 ('base')",
   "language": "python",
   "name": "python3"
  },
  "language_info": {
   "codemirror_mode": {
    "name": "ipython",
    "version": 3
   },
   "file_extension": ".py",
   "mimetype": "text/x-python",
   "name": "python",
   "nbconvert_exporter": "python",
   "pygments_lexer": "ipython3",
   "version": "3.9.7"
  },
  "orig_nbformat": 4,
  "vscode": {
   "interpreter": {
    "hash": "f9e0dc8b388f8216ef4b4be0df8ebcfe28b361295e8f834a405c09de8a5179f3"
   }
  }
 },
 "nbformat": 4,
 "nbformat_minor": 2
}
